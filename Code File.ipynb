{
  "nbformat": 4,
  "nbformat_minor": 0,
  "metadata": {
    "colab": {
      "name": "IR",
      "provenance": [],
      "collapsed_sections": [],
      "machine_shape": "hm"
    },
    "kernelspec": {
      "name": "python3",
      "display_name": "Python 3"
    }
  },
  "cells": [
    {
      "cell_type": "code",
      "metadata": {
        "id": "3pqUUK6hRFRT",
        "colab": {
          "base_uri": "https://localhost:8080/",
          "height": 122
        },
        "outputId": "5dd7d0d3-abf6-434a-ff26-1a38b6e44dac"
      },
      "source": [
        "from google.colab import drive\n",
        "drive.mount('/content/gdrive')"
      ],
      "execution_count": null,
      "outputs": [
        {
          "output_type": "stream",
          "text": [
            "Go to this URL in a browser: https://accounts.google.com/o/oauth2/auth?client_id=947318989803-6bn6qk8qdgf4n4g3pfee6491hc0brc4i.apps.googleusercontent.com&redirect_uri=urn%3aietf%3awg%3aoauth%3a2.0%3aoob&response_type=code&scope=email%20https%3a%2f%2fwww.googleapis.com%2fauth%2fdocs.test%20https%3a%2f%2fwww.googleapis.com%2fauth%2fdrive%20https%3a%2f%2fwww.googleapis.com%2fauth%2fdrive.photos.readonly%20https%3a%2f%2fwww.googleapis.com%2fauth%2fpeopleapi.readonly\n",
            "\n",
            "Enter your authorization code:\n",
            "··········\n",
            "Mounted at /content/gdrive\n"
          ],
          "name": "stdout"
        }
      ]
    },
    {
      "cell_type": "code",
      "metadata": {
        "id": "EmDhTaHcRPAj"
      },
      "source": [
        "import pandas as pd\n",
        "import numpy as np"
      ],
      "execution_count": null,
      "outputs": []
    },
    {
      "cell_type": "code",
      "metadata": {
        "id": "yMc9lXTYRS0d"
      },
      "source": [
        "data= pd.read_csv('/content/gdrive/My Drive/Company Project/Shared_Micromobility_Vehicle_Trips.csv', low_memory=False)"
      ],
      "execution_count": null,
      "outputs": []
    },
    {
      "cell_type": "code",
      "metadata": {
        "id": "qVnKkMJ_S0zM",
        "colab": {
          "base_uri": "https://localhost:8080/",
          "height": 34
        },
        "outputId": "9139f0c8-d5d4-4e28-844e-cdc093b231c6"
      },
      "source": [
        "data.shape"
      ],
      "execution_count": null,
      "outputs": [
        {
          "output_type": "execute_result",
          "data": {
            "text/plain": [
              "(9265942, 16)"
            ]
          },
          "metadata": {
            "tags": []
          },
          "execution_count": 5
        }
      ]
    },
    {
      "cell_type": "code",
      "metadata": {
        "id": "wN3VAckXESWe",
        "colab": {
          "base_uri": "https://localhost:8080/",
          "height": 306
        },
        "outputId": "780d2b2a-62ca-4361-dafa-722a87c9196d"
      },
      "source": [
        "#data[(data['Year']=='2,020')&(data['Month']==2)]['Day_of_Week'].unique()\n",
        "data.head(5)"
      ],
      "execution_count": null,
      "outputs": [
        {
          "output_type": "execute_result",
          "data": {
            "text/html": [
              "<div>\n",
              "<style scoped>\n",
              "    .dataframe tbody tr th:only-of-type {\n",
              "        vertical-align: middle;\n",
              "    }\n",
              "\n",
              "    .dataframe tbody tr th {\n",
              "        vertical-align: top;\n",
              "    }\n",
              "\n",
              "    .dataframe thead th {\n",
              "        text-align: right;\n",
              "    }\n",
              "</style>\n",
              "<table border=\"1\" class=\"dataframe\">\n",
              "  <thead>\n",
              "    <tr style=\"text-align: right;\">\n",
              "      <th></th>\n",
              "      <th>ID</th>\n",
              "      <th>Device ID</th>\n",
              "      <th>Vehicle Type</th>\n",
              "      <th>Trip Duration</th>\n",
              "      <th>Trip Distance</th>\n",
              "      <th>Start Time</th>\n",
              "      <th>End Time</th>\n",
              "      <th>Modified Date</th>\n",
              "      <th>Month</th>\n",
              "      <th>Hour</th>\n",
              "      <th>Day of Week</th>\n",
              "      <th>Council District (Start)</th>\n",
              "      <th>Council District (End)</th>\n",
              "      <th>Year</th>\n",
              "      <th>Census Tract Start</th>\n",
              "      <th>Census Tract End</th>\n",
              "    </tr>\n",
              "  </thead>\n",
              "  <tbody>\n",
              "    <tr>\n",
              "      <th>0</th>\n",
              "      <td>6865731e-5e4b-4819-9435-4e62e09a652d</td>\n",
              "      <td>08c8c852-257c-49ad-a14f-727bfc79626d</td>\n",
              "      <td>NaN</td>\n",
              "      <td>NaN</td>\n",
              "      <td>NaN</td>\n",
              "      <td>NaN</td>\n",
              "      <td>NaN</td>\n",
              "      <td>12/13/2018 03:36:12 PM</td>\n",
              "      <td>NaN</td>\n",
              "      <td>NaN</td>\n",
              "      <td>NaN</td>\n",
              "      <td>0</td>\n",
              "      <td>0</td>\n",
              "      <td>NaN</td>\n",
              "      <td>NaN</td>\n",
              "      <td>NaN</td>\n",
              "    </tr>\n",
              "    <tr>\n",
              "      <th>1</th>\n",
              "      <td>08dc0d9c-735e-4006-b9af-60011509e469</td>\n",
              "      <td>255716b5-4a9f-4efc-9967-7a65b3521bac</td>\n",
              "      <td>bicycle</td>\n",
              "      <td>11,491,603</td>\n",
              "      <td>1,658</td>\n",
              "      <td>11/30/2018 11:00:00 AM</td>\n",
              "      <td>04/12/2019 12:00:00 PM</td>\n",
              "      <td>12/21/2018 12:41:42 AM</td>\n",
              "      <td>11.0</td>\n",
              "      <td>11.0</td>\n",
              "      <td>5.0</td>\n",
              "      <td>9</td>\n",
              "      <td>0</td>\n",
              "      <td>2,018</td>\n",
              "      <td>NaN</td>\n",
              "      <td>NaN</td>\n",
              "    </tr>\n",
              "    <tr>\n",
              "      <th>2</th>\n",
              "      <td>92b80c20-89a4-4c7f-8b61-81a3570a218e</td>\n",
              "      <td>4d1e7bd0-75ce-401c-a802-8dd87122f802</td>\n",
              "      <td>scooter</td>\n",
              "      <td>678</td>\n",
              "      <td>2,785</td>\n",
              "      <td>04/27/2019 03:00:00 PM</td>\n",
              "      <td>04/27/2019 03:15:00 PM</td>\n",
              "      <td>04/28/2019 02:42:07 AM</td>\n",
              "      <td>4.0</td>\n",
              "      <td>15.0</td>\n",
              "      <td>6.0</td>\n",
              "      <td>1</td>\n",
              "      <td>9</td>\n",
              "      <td>2,019</td>\n",
              "      <td>48453001100</td>\n",
              "      <td>48453001100</td>\n",
              "    </tr>\n",
              "    <tr>\n",
              "      <th>3</th>\n",
              "      <td>d9aef7c5-025d-4f2c-bafe-7801f89ef9dd</td>\n",
              "      <td>fdc38815-fe35-454b-bfb9-a63a2f2c205b</td>\n",
              "      <td>scooter</td>\n",
              "      <td>713</td>\n",
              "      <td>2,466</td>\n",
              "      <td>04/27/2019 03:00:00 PM</td>\n",
              "      <td>04/27/2019 03:15:00 PM</td>\n",
              "      <td>04/28/2019 02:42:07 AM</td>\n",
              "      <td>4.0</td>\n",
              "      <td>15.0</td>\n",
              "      <td>6.0</td>\n",
              "      <td>9</td>\n",
              "      <td>5</td>\n",
              "      <td>2,019</td>\n",
              "      <td>48453001305</td>\n",
              "      <td>48453001901</td>\n",
              "    </tr>\n",
              "    <tr>\n",
              "      <th>4</th>\n",
              "      <td>baec3b6e-66f1-4043-bbd5-d54087f1c2de</td>\n",
              "      <td>007f1fed-0fe6-423f-8ca7-cd67834f20da</td>\n",
              "      <td>scooter</td>\n",
              "      <td>469</td>\n",
              "      <td>1,608</td>\n",
              "      <td>04/27/2019 03:15:00 PM</td>\n",
              "      <td>04/27/2019 03:15:00 PM</td>\n",
              "      <td>04/28/2019 02:42:07 AM</td>\n",
              "      <td>4.0</td>\n",
              "      <td>15.0</td>\n",
              "      <td>6.0</td>\n",
              "      <td>9</td>\n",
              "      <td>9</td>\n",
              "      <td>2,019</td>\n",
              "      <td>48453001100</td>\n",
              "      <td>48453001305</td>\n",
              "    </tr>\n",
              "  </tbody>\n",
              "</table>\n",
              "</div>"
            ],
            "text/plain": [
              "                                     ID  ... Census Tract End\n",
              "0  6865731e-5e4b-4819-9435-4e62e09a652d  ...              NaN\n",
              "1  08dc0d9c-735e-4006-b9af-60011509e469  ...              NaN\n",
              "2  92b80c20-89a4-4c7f-8b61-81a3570a218e  ...      48453001100\n",
              "3  d9aef7c5-025d-4f2c-bafe-7801f89ef9dd  ...      48453001901\n",
              "4  baec3b6e-66f1-4043-bbd5-d54087f1c2de  ...      48453001305\n",
              "\n",
              "[5 rows x 16 columns]"
            ]
          },
          "metadata": {
            "tags": []
          },
          "execution_count": 6
        }
      ]
    },
    {
      "cell_type": "code",
      "metadata": {
        "id": "xjLJNk9RFNvy",
        "colab": {
          "base_uri": "https://localhost:8080/",
          "height": 306
        },
        "outputId": "230f9f9a-e170-444a-f190-b0bd0dc3d779"
      },
      "source": [
        "data.dtypes"
      ],
      "execution_count": null,
      "outputs": [
        {
          "output_type": "execute_result",
          "data": {
            "text/plain": [
              "ID                           object\n",
              "Device ID                    object\n",
              "Vehicle Type                 object\n",
              "Trip Duration                object\n",
              "Trip Distance                object\n",
              "Start Time                   object\n",
              "End Time                     object\n",
              "Modified Date                object\n",
              "Month                       float64\n",
              "Hour                        float64\n",
              "Day of Week                 float64\n",
              "Council District (Start)     object\n",
              "Council District (End)       object\n",
              "Year                         object\n",
              "Census Tract Start           object\n",
              "Census Tract End             object\n",
              "dtype: object"
            ]
          },
          "metadata": {
            "tags": []
          },
          "execution_count": 7
        }
      ]
    },
    {
      "cell_type": "code",
      "metadata": {
        "id": "sBqhQf5QE3g_"
      },
      "source": [
        "data.columns = data.columns.str.replace(' ','_')"
      ],
      "execution_count": null,
      "outputs": []
    },
    {
      "cell_type": "code",
      "metadata": {
        "id": "mfdKvry5IsZ_"
      },
      "source": [
        "data['Trip_Duration'] = data['Trip_Duration'].str.replace(',', '')"
      ],
      "execution_count": null,
      "outputs": []
    },
    {
      "cell_type": "code",
      "metadata": {
        "id": "0N4XzovCKUqK"
      },
      "source": [
        "data['Trip_Distance'] = data['Trip_Distance'].str.replace(',', '')"
      ],
      "execution_count": null,
      "outputs": []
    },
    {
      "cell_type": "code",
      "metadata": {
        "id": "MASLnHgIJQ15"
      },
      "source": [
        "data['Trip_Duration'] = pd.to_numeric(data.Trip_Duration)"
      ],
      "execution_count": null,
      "outputs": []
    },
    {
      "cell_type": "code",
      "metadata": {
        "id": "hq3ilfJmKZvi"
      },
      "source": [
        "data['Trip_Distance'] = pd.to_numeric(data.Trip_Distance)"
      ],
      "execution_count": null,
      "outputs": []
    },
    {
      "cell_type": "code",
      "metadata": {
        "id": "VxcDUGXlG0EH",
        "colab": {
          "base_uri": "https://localhost:8080/",
          "height": 297
        },
        "outputId": "095f8afa-0511-43fe-e0eb-51a11bf64acf"
      },
      "source": [
        "data.describe()"
      ],
      "execution_count": null,
      "outputs": [
        {
          "output_type": "execute_result",
          "data": {
            "text/html": [
              "<div>\n",
              "<style scoped>\n",
              "    .dataframe tbody tr th:only-of-type {\n",
              "        vertical-align: middle;\n",
              "    }\n",
              "\n",
              "    .dataframe tbody tr th {\n",
              "        vertical-align: top;\n",
              "    }\n",
              "\n",
              "    .dataframe thead th {\n",
              "        text-align: right;\n",
              "    }\n",
              "</style>\n",
              "<table border=\"1\" class=\"dataframe\">\n",
              "  <thead>\n",
              "    <tr style=\"text-align: right;\">\n",
              "      <th></th>\n",
              "      <th>Trip_Duration</th>\n",
              "      <th>Trip_Distance</th>\n",
              "      <th>Month</th>\n",
              "      <th>Hour</th>\n",
              "      <th>Day_of_Week</th>\n",
              "    </tr>\n",
              "  </thead>\n",
              "  <tbody>\n",
              "    <tr>\n",
              "      <th>count</th>\n",
              "      <td>9.265941e+06</td>\n",
              "      <td>9.265941e+06</td>\n",
              "      <td>9.265941e+06</td>\n",
              "      <td>9.265941e+06</td>\n",
              "      <td>9.265941e+06</td>\n",
              "    </tr>\n",
              "    <tr>\n",
              "      <th>mean</th>\n",
              "      <td>6.640066e+02</td>\n",
              "      <td>3.955051e+04</td>\n",
              "      <td>6.535601e+00</td>\n",
              "      <td>1.449017e+01</td>\n",
              "      <td>3.320499e+00</td>\n",
              "    </tr>\n",
              "    <tr>\n",
              "      <th>std</th>\n",
              "      <td>6.490699e+03</td>\n",
              "      <td>5.862049e+06</td>\n",
              "      <td>3.470985e+00</td>\n",
              "      <td>5.484914e+00</td>\n",
              "      <td>2.114404e+00</td>\n",
              "    </tr>\n",
              "    <tr>\n",
              "      <th>min</th>\n",
              "      <td>-8.616100e+04</td>\n",
              "      <td>-1.672411e+07</td>\n",
              "      <td>1.000000e+00</td>\n",
              "      <td>0.000000e+00</td>\n",
              "      <td>0.000000e+00</td>\n",
              "    </tr>\n",
              "    <tr>\n",
              "      <th>25%</th>\n",
              "      <td>2.340000e+02</td>\n",
              "      <td>4.940000e+02</td>\n",
              "      <td>3.000000e+00</td>\n",
              "      <td>1.200000e+01</td>\n",
              "      <td>1.000000e+00</td>\n",
              "    </tr>\n",
              "    <tr>\n",
              "      <th>50%</th>\n",
              "      <td>4.010000e+02</td>\n",
              "      <td>1.029000e+03</td>\n",
              "      <td>7.000000e+00</td>\n",
              "      <td>1.500000e+01</td>\n",
              "      <td>4.000000e+00</td>\n",
              "    </tr>\n",
              "    <tr>\n",
              "      <th>75%</th>\n",
              "      <td>7.360000e+02</td>\n",
              "      <td>1.899000e+03</td>\n",
              "      <td>1.000000e+01</td>\n",
              "      <td>1.900000e+01</td>\n",
              "      <td>5.000000e+00</td>\n",
              "    </tr>\n",
              "    <tr>\n",
              "      <th>max</th>\n",
              "      <td>1.149160e+07</td>\n",
              "      <td>2.147484e+09</td>\n",
              "      <td>1.200000e+01</td>\n",
              "      <td>2.300000e+01</td>\n",
              "      <td>7.000000e+00</td>\n",
              "    </tr>\n",
              "  </tbody>\n",
              "</table>\n",
              "</div>"
            ],
            "text/plain": [
              "       Trip_Duration  Trip_Distance         Month          Hour   Day_of_Week\n",
              "count   9.265941e+06   9.265941e+06  9.265941e+06  9.265941e+06  9.265941e+06\n",
              "mean    6.640066e+02   3.955051e+04  6.535601e+00  1.449017e+01  3.320499e+00\n",
              "std     6.490699e+03   5.862049e+06  3.470985e+00  5.484914e+00  2.114404e+00\n",
              "min    -8.616100e+04  -1.672411e+07  1.000000e+00  0.000000e+00  0.000000e+00\n",
              "25%     2.340000e+02   4.940000e+02  3.000000e+00  1.200000e+01  1.000000e+00\n",
              "50%     4.010000e+02   1.029000e+03  7.000000e+00  1.500000e+01  4.000000e+00\n",
              "75%     7.360000e+02   1.899000e+03  1.000000e+01  1.900000e+01  5.000000e+00\n",
              "max     1.149160e+07   2.147484e+09  1.200000e+01  2.300000e+01  7.000000e+00"
            ]
          },
          "metadata": {
            "tags": []
          },
          "execution_count": 14
        }
      ]
    },
    {
      "cell_type": "code",
      "metadata": {
        "id": "JVUASXt2HqKZ"
      },
      "source": [
        "data1 = data[(data.Trip_Distance > 1) & (data.Trip_Duration > 0)]"
      ],
      "execution_count": null,
      "outputs": []
    },
    {
      "cell_type": "code",
      "metadata": {
        "id": "vJOV-du2Omt0",
        "colab": {
          "base_uri": "https://localhost:8080/",
          "height": 949
        },
        "outputId": "6c434c58-3bd4-4b8f-e74e-713b54120f83"
      },
      "source": [
        "data1.sort_values(by='Trip_Distance', ascending=False)"
      ],
      "execution_count": null,
      "outputs": [
        {
          "output_type": "execute_result",
          "data": {
            "text/html": [
              "<div>\n",
              "<style scoped>\n",
              "    .dataframe tbody tr th:only-of-type {\n",
              "        vertical-align: middle;\n",
              "    }\n",
              "\n",
              "    .dataframe tbody tr th {\n",
              "        vertical-align: top;\n",
              "    }\n",
              "\n",
              "    .dataframe thead th {\n",
              "        text-align: right;\n",
              "    }\n",
              "</style>\n",
              "<table border=\"1\" class=\"dataframe\">\n",
              "  <thead>\n",
              "    <tr style=\"text-align: right;\">\n",
              "      <th></th>\n",
              "      <th>ID</th>\n",
              "      <th>Device_ID</th>\n",
              "      <th>Vehicle_Type</th>\n",
              "      <th>Trip_Duration</th>\n",
              "      <th>Trip_Distance</th>\n",
              "      <th>Start_Time</th>\n",
              "      <th>End_Time</th>\n",
              "      <th>Modified_Date</th>\n",
              "      <th>Month</th>\n",
              "      <th>Hour</th>\n",
              "      <th>Day_of_Week</th>\n",
              "      <th>Council_District_(Start)</th>\n",
              "      <th>Council_District_(End)</th>\n",
              "      <th>Year</th>\n",
              "      <th>Census_Tract_Start</th>\n",
              "      <th>Census_Tract_End</th>\n",
              "    </tr>\n",
              "  </thead>\n",
              "  <tbody>\n",
              "    <tr>\n",
              "      <th>5848641</th>\n",
              "      <td>922684f4-3b04-4a39-a108-5268da4a743b</td>\n",
              "      <td>24b60f70-0f50-4ef5-b671-258e08b51cf8</td>\n",
              "      <td>bicycle</td>\n",
              "      <td>27000.0</td>\n",
              "      <td>2.147484e+09</td>\n",
              "      <td>10/04/2018 05:30:00 PM</td>\n",
              "      <td>10/05/2018 01:00:00 AM</td>\n",
              "      <td>04/17/2019 09:18:22 AM</td>\n",
              "      <td>10.0</td>\n",
              "      <td>17.0</td>\n",
              "      <td>4.0</td>\n",
              "      <td>9</td>\n",
              "      <td>9</td>\n",
              "      <td>2,018</td>\n",
              "      <td>48453001100</td>\n",
              "      <td>48453000601</td>\n",
              "    </tr>\n",
              "    <tr>\n",
              "      <th>4627850</th>\n",
              "      <td>d51bfb00-0c9c-4bd5-8c51-ca313fe4ade8</td>\n",
              "      <td>7c941f7e-3d85-4586-a2aa-4c880ba31023</td>\n",
              "      <td>bicycle</td>\n",
              "      <td>27000.0</td>\n",
              "      <td>2.147484e+09</td>\n",
              "      <td>10/21/2018 11:30:00 PM</td>\n",
              "      <td>10/22/2018 07:00:00 AM</td>\n",
              "      <td>04/17/2019 04:20:51 AM</td>\n",
              "      <td>10.0</td>\n",
              "      <td>23.0</td>\n",
              "      <td>0.0</td>\n",
              "      <td>9</td>\n",
              "      <td>3</td>\n",
              "      <td>2,018</td>\n",
              "      <td>48453000601</td>\n",
              "      <td>48453002304</td>\n",
              "    </tr>\n",
              "    <tr>\n",
              "      <th>7768200</th>\n",
              "      <td>ee9a79bf-a80a-40e6-a0df-126e75f5f292</td>\n",
              "      <td>7dff4828-0529-4300-bdbe-01f59f0eb3d3</td>\n",
              "      <td>bicycle</td>\n",
              "      <td>900.0</td>\n",
              "      <td>2.147484e+09</td>\n",
              "      <td>10/13/2018 08:00:00 PM</td>\n",
              "      <td>10/13/2018 08:15:00 PM</td>\n",
              "      <td>04/17/2019 01:51:08 AM</td>\n",
              "      <td>10.0</td>\n",
              "      <td>20.0</td>\n",
              "      <td>6.0</td>\n",
              "      <td>9</td>\n",
              "      <td>3</td>\n",
              "      <td>2,018</td>\n",
              "      <td>48453001401</td>\n",
              "      <td>48453002317</td>\n",
              "    </tr>\n",
              "    <tr>\n",
              "      <th>5713103</th>\n",
              "      <td>28f5e3fa-291c-4949-83d4-777308ced253</td>\n",
              "      <td>fefc1ca2-13bf-4307-9f45-66fe237984f4</td>\n",
              "      <td>bicycle</td>\n",
              "      <td>27000.0</td>\n",
              "      <td>2.147484e+09</td>\n",
              "      <td>09/27/2018 10:15:00 PM</td>\n",
              "      <td>09/28/2018 05:45:00 AM</td>\n",
              "      <td>04/17/2019 08:48:45 AM</td>\n",
              "      <td>9.0</td>\n",
              "      <td>22.0</td>\n",
              "      <td>4.0</td>\n",
              "      <td>9</td>\n",
              "      <td>9</td>\n",
              "      <td>2,018</td>\n",
              "      <td>48453001100</td>\n",
              "      <td>48453000305</td>\n",
              "    </tr>\n",
              "    <tr>\n",
              "      <th>6510677</th>\n",
              "      <td>77c3b961-bb78-491e-af7a-95f98e1405e1</td>\n",
              "      <td>648d04fc-5254-4650-99d2-5e8ced799403</td>\n",
              "      <td>bicycle</td>\n",
              "      <td>27000.0</td>\n",
              "      <td>2.147484e+09</td>\n",
              "      <td>09/27/2018 06:15:00 PM</td>\n",
              "      <td>09/28/2018 01:45:00 AM</td>\n",
              "      <td>04/17/2019 02:03:47 AM</td>\n",
              "      <td>9.0</td>\n",
              "      <td>18.0</td>\n",
              "      <td>4.0</td>\n",
              "      <td>9</td>\n",
              "      <td>7</td>\n",
              "      <td>2,018</td>\n",
              "      <td>48453001200</td>\n",
              "      <td>48453001817</td>\n",
              "    </tr>\n",
              "    <tr>\n",
              "      <th>...</th>\n",
              "      <td>...</td>\n",
              "      <td>...</td>\n",
              "      <td>...</td>\n",
              "      <td>...</td>\n",
              "      <td>...</td>\n",
              "      <td>...</td>\n",
              "      <td>...</td>\n",
              "      <td>...</td>\n",
              "      <td>...</td>\n",
              "      <td>...</td>\n",
              "      <td>...</td>\n",
              "      <td>...</td>\n",
              "      <td>...</td>\n",
              "      <td>...</td>\n",
              "      <td>...</td>\n",
              "      <td>...</td>\n",
              "    </tr>\n",
              "    <tr>\n",
              "      <th>9191404</th>\n",
              "      <td>b1f56a33-a4e3-4735-b416-90d1dd99d499</td>\n",
              "      <td>d6ae543a-4ee7-47ec-93ba-34bedd7b07ed</td>\n",
              "      <td>scooter</td>\n",
              "      <td>13.0</td>\n",
              "      <td>1.112737e+00</td>\n",
              "      <td>03/10/2020 07:15:00 PM</td>\n",
              "      <td>03/10/2020 07:15:00 PM</td>\n",
              "      <td>03/11/2020 09:15:34 PM</td>\n",
              "      <td>3.0</td>\n",
              "      <td>19.0</td>\n",
              "      <td>1.0</td>\n",
              "      <td>9</td>\n",
              "      <td>9</td>\n",
              "      <td>2,020</td>\n",
              "      <td>48453001305</td>\n",
              "      <td>48453001305</td>\n",
              "    </tr>\n",
              "    <tr>\n",
              "      <th>9238298</th>\n",
              "      <td>c74d9c8f-9c2b-4a7e-b546-f69d23946331</td>\n",
              "      <td>81b5f342-4951-481a-82e0-2a313fcd42fe</td>\n",
              "      <td>scooter</td>\n",
              "      <td>15.0</td>\n",
              "      <td>1.069399e+00</td>\n",
              "      <td>03/14/2020 11:45:00 PM</td>\n",
              "      <td>03/14/2020 11:45:00 PM</td>\n",
              "      <td>03/16/2020 01:15:31 AM</td>\n",
              "      <td>3.0</td>\n",
              "      <td>23.0</td>\n",
              "      <td>5.0</td>\n",
              "      <td>9</td>\n",
              "      <td>9</td>\n",
              "      <td>2,020</td>\n",
              "      <td>48453001100</td>\n",
              "      <td>48453001100</td>\n",
              "    </tr>\n",
              "    <tr>\n",
              "      <th>9165244</th>\n",
              "      <td>5514ba18-2fe3-42bb-b8fe-933abde6a03f</td>\n",
              "      <td>2f2183a1-74b7-4eb0-b30a-334cc174a231</td>\n",
              "      <td>scooter</td>\n",
              "      <td>8.0</td>\n",
              "      <td>1.060449e+00</td>\n",
              "      <td>03/08/2020 02:15:00 AM</td>\n",
              "      <td>03/08/2020 02:15:00 AM</td>\n",
              "      <td>03/09/2020 03:16:15 AM</td>\n",
              "      <td>3.0</td>\n",
              "      <td>2.0</td>\n",
              "      <td>6.0</td>\n",
              "      <td>9</td>\n",
              "      <td>9</td>\n",
              "      <td>2,020</td>\n",
              "      <td>48453001200</td>\n",
              "      <td>48453001200</td>\n",
              "    </tr>\n",
              "    <tr>\n",
              "      <th>9258855</th>\n",
              "      <td>3e5da747-9497-4ffa-b2e8-af235d1e177e</td>\n",
              "      <td>bb4ef86e-1b7b-4196-b8d7-1aaa78dd2c6c</td>\n",
              "      <td>scooter</td>\n",
              "      <td>13.0</td>\n",
              "      <td>1.059744e+00</td>\n",
              "      <td>03/18/2020 09:00:00 PM</td>\n",
              "      <td>03/18/2020 09:00:00 PM</td>\n",
              "      <td>03/19/2020 10:15:41 PM</td>\n",
              "      <td>3.0</td>\n",
              "      <td>21.0</td>\n",
              "      <td>2.0</td>\n",
              "      <td>9</td>\n",
              "      <td>9</td>\n",
              "      <td>2,020</td>\n",
              "      <td>48453001401</td>\n",
              "      <td>48453001401</td>\n",
              "    </tr>\n",
              "    <tr>\n",
              "      <th>8579713</th>\n",
              "      <td>ced3890c-1736-4c33-ac03-48e9fba65b68</td>\n",
              "      <td>2fd67750-73a4-4290-9b4f-2fb1444d58d1</td>\n",
              "      <td>scooter</td>\n",
              "      <td>5.0</td>\n",
              "      <td>1.027590e+00</td>\n",
              "      <td>02/27/2020 07:00:00 AM</td>\n",
              "      <td>02/27/2020 07:00:00 AM</td>\n",
              "      <td>02/28/2020 08:15:38 AM</td>\n",
              "      <td>2.0</td>\n",
              "      <td>7.0</td>\n",
              "      <td>4.0</td>\n",
              "      <td>3</td>\n",
              "      <td>3</td>\n",
              "      <td>2,020</td>\n",
              "      <td>48453000902</td>\n",
              "      <td>48453000902</td>\n",
              "    </tr>\n",
              "  </tbody>\n",
              "</table>\n",
              "<p>8670780 rows × 16 columns</p>\n",
              "</div>"
            ],
            "text/plain": [
              "                                           ID  ... Census_Tract_End\n",
              "5848641  922684f4-3b04-4a39-a108-5268da4a743b  ...      48453000601\n",
              "4627850  d51bfb00-0c9c-4bd5-8c51-ca313fe4ade8  ...      48453002304\n",
              "7768200  ee9a79bf-a80a-40e6-a0df-126e75f5f292  ...      48453002317\n",
              "5713103  28f5e3fa-291c-4949-83d4-777308ced253  ...      48453000305\n",
              "6510677  77c3b961-bb78-491e-af7a-95f98e1405e1  ...      48453001817\n",
              "...                                       ...  ...              ...\n",
              "9191404  b1f56a33-a4e3-4735-b416-90d1dd99d499  ...      48453001305\n",
              "9238298  c74d9c8f-9c2b-4a7e-b546-f69d23946331  ...      48453001100\n",
              "9165244  5514ba18-2fe3-42bb-b8fe-933abde6a03f  ...      48453001200\n",
              "9258855  3e5da747-9497-4ffa-b2e8-af235d1e177e  ...      48453001401\n",
              "8579713  ced3890c-1736-4c33-ac03-48e9fba65b68  ...      48453000902\n",
              "\n",
              "[8670780 rows x 16 columns]"
            ]
          },
          "metadata": {
            "tags": []
          },
          "execution_count": 16
        }
      ]
    },
    {
      "cell_type": "code",
      "metadata": {
        "id": "yE75sJaRPq6k",
        "colab": {
          "base_uri": "https://localhost:8080/",
          "height": 949
        },
        "outputId": "aed0aab2-2de3-4306-a22b-9795089e972e"
      },
      "source": [
        "data1[(data1.Trip_Distance < 80467.2) & (data1.Trip_Distance > 50)].sort_values(by='Trip_Distance', ascending=True)"
      ],
      "execution_count": null,
      "outputs": [
        {
          "output_type": "execute_result",
          "data": {
            "text/html": [
              "<div>\n",
              "<style scoped>\n",
              "    .dataframe tbody tr th:only-of-type {\n",
              "        vertical-align: middle;\n",
              "    }\n",
              "\n",
              "    .dataframe tbody tr th {\n",
              "        vertical-align: top;\n",
              "    }\n",
              "\n",
              "    .dataframe thead th {\n",
              "        text-align: right;\n",
              "    }\n",
              "</style>\n",
              "<table border=\"1\" class=\"dataframe\">\n",
              "  <thead>\n",
              "    <tr style=\"text-align: right;\">\n",
              "      <th></th>\n",
              "      <th>ID</th>\n",
              "      <th>Device_ID</th>\n",
              "      <th>Vehicle_Type</th>\n",
              "      <th>Trip_Duration</th>\n",
              "      <th>Trip_Distance</th>\n",
              "      <th>Start_Time</th>\n",
              "      <th>End_Time</th>\n",
              "      <th>Modified_Date</th>\n",
              "      <th>Month</th>\n",
              "      <th>Hour</th>\n",
              "      <th>Day_of_Week</th>\n",
              "      <th>Council_District_(Start)</th>\n",
              "      <th>Council_District_(End)</th>\n",
              "      <th>Year</th>\n",
              "      <th>Census_Tract_Start</th>\n",
              "      <th>Census_Tract_End</th>\n",
              "    </tr>\n",
              "  </thead>\n",
              "  <tbody>\n",
              "    <tr>\n",
              "      <th>9227344</th>\n",
              "      <td>71ca08e3-55ab-47d6-b472-7dc8f62ccf4e</td>\n",
              "      <td>ebd7e4c6-53ea-4491-b631-3c79749f3e7b</td>\n",
              "      <td>scooter</td>\n",
              "      <td>124.0</td>\n",
              "      <td>50.170416</td>\n",
              "      <td>03/14/2020 12:15:00 AM</td>\n",
              "      <td>03/14/2020 12:15:00 AM</td>\n",
              "      <td>03/15/2020 02:15:33 AM</td>\n",
              "      <td>3.0</td>\n",
              "      <td>0.0</td>\n",
              "      <td>5.0</td>\n",
              "      <td>9</td>\n",
              "      <td>9</td>\n",
              "      <td>2,020</td>\n",
              "      <td>48453001100</td>\n",
              "      <td>48453001100</td>\n",
              "    </tr>\n",
              "    <tr>\n",
              "      <th>9172126</th>\n",
              "      <td>9614e3c8-8df8-4ec4-a831-8468b562d54b</td>\n",
              "      <td>c799a0d0-900b-4fc1-b157-e45f91b773da</td>\n",
              "      <td>scooter</td>\n",
              "      <td>125.0</td>\n",
              "      <td>50.406870</td>\n",
              "      <td>03/08/2020 05:45:00 PM</td>\n",
              "      <td>03/08/2020 05:45:00 PM</td>\n",
              "      <td>03/09/2020 07:16:10 PM</td>\n",
              "      <td>3.0</td>\n",
              "      <td>17.0</td>\n",
              "      <td>6.0</td>\n",
              "      <td>9</td>\n",
              "      <td>9</td>\n",
              "      <td>2,020</td>\n",
              "      <td>48453001402</td>\n",
              "      <td>48453001402</td>\n",
              "    </tr>\n",
              "    <tr>\n",
              "      <th>9198019</th>\n",
              "      <td>86d54a8e-19f3-46c0-8e3b-be9a2637c225</td>\n",
              "      <td>f10ab08d-518f-4273-a81a-dd994d503922</td>\n",
              "      <td>scooter</td>\n",
              "      <td>5.0</td>\n",
              "      <td>50.791685</td>\n",
              "      <td>03/11/2020 03:00:00 AM</td>\n",
              "      <td>03/11/2020 03:00:00 AM</td>\n",
              "      <td>03/12/2020 05:16:01 AM</td>\n",
              "      <td>3.0</td>\n",
              "      <td>3.0</td>\n",
              "      <td>2.0</td>\n",
              "      <td>9</td>\n",
              "      <td>9</td>\n",
              "      <td>2,020</td>\n",
              "      <td>48453001100</td>\n",
              "      <td>48453001100</td>\n",
              "    </tr>\n",
              "    <tr>\n",
              "      <th>8516767</th>\n",
              "      <td>7fa7414b-677a-49d0-a6d6-ea1d9907d456</td>\n",
              "      <td>90b06b69-cfe3-493b-b6f3-bcfa60b84f23</td>\n",
              "      <td>scooter</td>\n",
              "      <td>43.0</td>\n",
              "      <td>50.891969</td>\n",
              "      <td>02/24/2020 09:30:00 PM</td>\n",
              "      <td>02/24/2020 09:30:00 PM</td>\n",
              "      <td>02/25/2020 10:15:28 PM</td>\n",
              "      <td>2.0</td>\n",
              "      <td>21.0</td>\n",
              "      <td>1.0</td>\n",
              "      <td>9</td>\n",
              "      <td>9</td>\n",
              "      <td>2,020</td>\n",
              "      <td>48453001100</td>\n",
              "      <td>48453001100</td>\n",
              "    </tr>\n",
              "    <tr>\n",
              "      <th>694103</th>\n",
              "      <td>d6f9a9f4-9d1c-49af-80f7-2d423bd31033</td>\n",
              "      <td>e1fd13c7-0133-43bd-aea7-cf7f2a6325d5</td>\n",
              "      <td>scooter</td>\n",
              "      <td>1112.0</td>\n",
              "      <td>51.000000</td>\n",
              "      <td>05/25/2019 11:00:00 AM</td>\n",
              "      <td>05/25/2019 11:15:00 AM</td>\n",
              "      <td>05/25/2019 11:45:22 PM</td>\n",
              "      <td>5.0</td>\n",
              "      <td>11.0</td>\n",
              "      <td>6.0</td>\n",
              "      <td>1</td>\n",
              "      <td>1</td>\n",
              "      <td>2,019</td>\n",
              "      <td>48453000804</td>\n",
              "      <td>48453000804</td>\n",
              "    </tr>\n",
              "    <tr>\n",
              "      <th>...</th>\n",
              "      <td>...</td>\n",
              "      <td>...</td>\n",
              "      <td>...</td>\n",
              "      <td>...</td>\n",
              "      <td>...</td>\n",
              "      <td>...</td>\n",
              "      <td>...</td>\n",
              "      <td>...</td>\n",
              "      <td>...</td>\n",
              "      <td>...</td>\n",
              "      <td>...</td>\n",
              "      <td>...</td>\n",
              "      <td>...</td>\n",
              "      <td>...</td>\n",
              "      <td>...</td>\n",
              "      <td>...</td>\n",
              "    </tr>\n",
              "    <tr>\n",
              "      <th>8516116</th>\n",
              "      <td>5c9c05f3-c855-48bb-9fd6-dfc944f1aa9e</td>\n",
              "      <td>0bbfaa34-3488-4c67-b522-94dc6ea64407</td>\n",
              "      <td>scooter</td>\n",
              "      <td>557.0</td>\n",
              "      <td>80105.327139</td>\n",
              "      <td>02/24/2020 07:15:00 PM</td>\n",
              "      <td>02/24/2020 07:15:00 PM</td>\n",
              "      <td>02/25/2020 08:15:35 PM</td>\n",
              "      <td>2.0</td>\n",
              "      <td>19.0</td>\n",
              "      <td>1.0</td>\n",
              "      <td>9</td>\n",
              "      <td>9</td>\n",
              "      <td>2,020</td>\n",
              "      <td>48453001100</td>\n",
              "      <td>48453001100</td>\n",
              "    </tr>\n",
              "    <tr>\n",
              "      <th>3296148</th>\n",
              "      <td>a7ae1385-7bb5-47aa-b0cc-56a68cb993e9</td>\n",
              "      <td>ea7446a2-0479-46fd-baf6-d4c24d0e36d7</td>\n",
              "      <td>scooter</td>\n",
              "      <td>1780.0</td>\n",
              "      <td>80204.000000</td>\n",
              "      <td>10/19/2019 07:00:00 PM</td>\n",
              "      <td>10/19/2019 07:30:00 PM</td>\n",
              "      <td>10/20/2019 06:42:31 AM</td>\n",
              "      <td>10.0</td>\n",
              "      <td>19.0</td>\n",
              "      <td>6.0</td>\n",
              "      <td>9</td>\n",
              "      <td>3</td>\n",
              "      <td>2,019</td>\n",
              "      <td>48453000500</td>\n",
              "      <td>48453002308</td>\n",
              "    </tr>\n",
              "    <tr>\n",
              "      <th>1869538</th>\n",
              "      <td>cd90c5dc-d981-4981-b299-99aa5a44a86c</td>\n",
              "      <td>05fdd358-eb77-4f3c-8cbb-61ba8ee75a33</td>\n",
              "      <td>scooter</td>\n",
              "      <td>531.0</td>\n",
              "      <td>80290.000000</td>\n",
              "      <td>07/31/2019 06:00:00 PM</td>\n",
              "      <td>07/31/2019 06:15:00 PM</td>\n",
              "      <td>08/01/2019 05:21:24 AM</td>\n",
              "      <td>7.0</td>\n",
              "      <td>18.0</td>\n",
              "      <td>3.0</td>\n",
              "      <td>9</td>\n",
              "      <td>9</td>\n",
              "      <td>2,019</td>\n",
              "      <td>48453000604</td>\n",
              "      <td>48453000601</td>\n",
              "    </tr>\n",
              "    <tr>\n",
              "      <th>3992683</th>\n",
              "      <td>44b21746-dc62-4ecc-bfc4-41bffab49368</td>\n",
              "      <td>83eb8fce-2ad5-4ff5-a75e-3b11766ec2c3</td>\n",
              "      <td>bicycle</td>\n",
              "      <td>17677.0</td>\n",
              "      <td>80322.000000</td>\n",
              "      <td>03/15/2019 12:15:00 AM</td>\n",
              "      <td>03/15/2019 05:15:00 AM</td>\n",
              "      <td>04/25/2019 02:18:14 PM</td>\n",
              "      <td>3.0</td>\n",
              "      <td>0.0</td>\n",
              "      <td>5.0</td>\n",
              "      <td>9</td>\n",
              "      <td>2</td>\n",
              "      <td>2,019</td>\n",
              "      <td>48453001100</td>\n",
              "      <td>48453002431</td>\n",
              "    </tr>\n",
              "    <tr>\n",
              "      <th>2243964</th>\n",
              "      <td>c54814be-548a-45ca-b8bd-aeea18532aaa</td>\n",
              "      <td>156ac65f-baf0-4442-a8d2-7c720c74688d</td>\n",
              "      <td>scooter</td>\n",
              "      <td>896.0</td>\n",
              "      <td>80401.000000</td>\n",
              "      <td>08/16/2019 09:30:00 PM</td>\n",
              "      <td>08/16/2019 09:45:00 PM</td>\n",
              "      <td>08/17/2019 09:25:36 AM</td>\n",
              "      <td>8.0</td>\n",
              "      <td>21.0</td>\n",
              "      <td>5.0</td>\n",
              "      <td>3</td>\n",
              "      <td>3</td>\n",
              "      <td>2,019</td>\n",
              "      <td>48453001308</td>\n",
              "      <td>48453001308</td>\n",
              "    </tr>\n",
              "  </tbody>\n",
              "</table>\n",
              "<p>8366777 rows × 16 columns</p>\n",
              "</div>"
            ],
            "text/plain": [
              "                                           ID  ... Census_Tract_End\n",
              "9227344  71ca08e3-55ab-47d6-b472-7dc8f62ccf4e  ...      48453001100\n",
              "9172126  9614e3c8-8df8-4ec4-a831-8468b562d54b  ...      48453001402\n",
              "9198019  86d54a8e-19f3-46c0-8e3b-be9a2637c225  ...      48453001100\n",
              "8516767  7fa7414b-677a-49d0-a6d6-ea1d9907d456  ...      48453001100\n",
              "694103   d6f9a9f4-9d1c-49af-80f7-2d423bd31033  ...      48453000804\n",
              "...                                       ...  ...              ...\n",
              "8516116  5c9c05f3-c855-48bb-9fd6-dfc944f1aa9e  ...      48453001100\n",
              "3296148  a7ae1385-7bb5-47aa-b0cc-56a68cb993e9  ...      48453002308\n",
              "1869538  cd90c5dc-d981-4981-b299-99aa5a44a86c  ...      48453000601\n",
              "3992683  44b21746-dc62-4ecc-bfc4-41bffab49368  ...      48453002431\n",
              "2243964  c54814be-548a-45ca-b8bd-aeea18532aaa  ...      48453001308\n",
              "\n",
              "[8366777 rows x 16 columns]"
            ]
          },
          "metadata": {
            "tags": []
          },
          "execution_count": 17
        }
      ]
    },
    {
      "cell_type": "code",
      "metadata": {
        "id": "jJtMz2onVKBr",
        "colab": {
          "base_uri": "https://localhost:8080/",
          "height": 34
        },
        "outputId": "553447cd-e53e-467b-a4ae-d600ddf9ab69"
      },
      "source": [
        "len(data['Census_Tract_End'].unique()) #Number of devices are 86923\n",
        "#Starting locations are 292\n",
        "#Ending locations are 281"
      ],
      "execution_count": null,
      "outputs": [
        {
          "output_type": "execute_result",
          "data": {
            "text/plain": [
              "281"
            ]
          },
          "metadata": {
            "tags": []
          },
          "execution_count": 18
        }
      ]
    },
    {
      "cell_type": "code",
      "metadata": {
        "id": "YqSejmemXvA3"
      },
      "source": [
        "data2 = data1.drop(['Device_ID', 'Council_District_(Start)', 'Council_District_(End)', 'Modified_Date'], axis = 1)"
      ],
      "execution_count": null,
      "outputs": []
    },
    {
      "cell_type": "code",
      "metadata": {
        "id": "gdgIafsnXwCr"
      },
      "source": [
        "data2[\"Trip_Duration\"] = data2[\"Trip_Duration\"].astype(\"int\")\n",
        "data2[\"Trip_Distance\"] = data2[\"Trip_Distance\"].astype(\"int\")\n",
        "data2['Year'] = data2['Year'].str.replace(',', '')\n",
        "#data2[\"Start_Time\"] =  pd.to_datetime('Start_Time', format='%Y-%m-%d')\n",
        "#data2[\"End_Time\"] =  pd.to_datetime('End_Time', format='%Y-%m-%d')\n",
        "data2[\"Month\"] = data2[\"Month\"].astype(\"int\")\n",
        "data2[\"Hour\"] = data2[\"Hour\"].astype(\"int\")\n",
        "data2[\"Day_of_Week\"] = data2[\"Day_of_Week\"].astype(\"int\")\n",
        "data2[\"Year\"] = data2[\"Year\"].astype(\"int\")"
      ],
      "execution_count": null,
      "outputs": []
    },
    {
      "cell_type": "code",
      "metadata": {
        "id": "CVAQKP7Oc6dq"
      },
      "source": [
        "data2[\"Start_Time\"] =  pd.to_datetime(data2['Start_Time'])#pd.to_datetime(index.str[:-2])\n",
        "data2[\"End_Time\"] =  pd.to_datetime(data2['End_Time'])"
      ],
      "execution_count": null,
      "outputs": []
    },
    {
      "cell_type": "code",
      "metadata": {
        "id": "o8edynIUiFGV"
      },
      "source": [
        "data2[\"Start_Time\"] = data2[\"Start_Time\"].dt.date\n",
        "data2[\"End_Time\"] = data2[\"End_Time\"].dt.date"
      ],
      "execution_count": null,
      "outputs": []
    },
    {
      "cell_type": "code",
      "metadata": {
        "id": "5TJYd_3alrkb",
        "colab": {
          "base_uri": "https://localhost:8080/",
          "height": 34
        },
        "outputId": "5af7d016-9f3a-470f-8e1b-ff97425d1f40"
      },
      "source": [
        "data2[\"Vehicle_Type\"].unique()"
      ],
      "execution_count": null,
      "outputs": [
        {
          "output_type": "execute_result",
          "data": {
            "text/plain": [
              "array(['bicycle', 'scooter'], dtype=object)"
            ]
          },
          "metadata": {
            "tags": []
          },
          "execution_count": 23
        }
      ]
    },
    {
      "cell_type": "code",
      "metadata": {
        "id": "DYaC_oCSlHzC"
      },
      "source": [
        "data3 = data2.drop(['End_Time', 'Census_Tract_End','Trip_Duration','Trip_Distance'], axis = 1)"
      ],
      "execution_count": null,
      "outputs": []
    },
    {
      "cell_type": "code",
      "metadata": {
        "id": "CNBwuvJIdemY"
      },
      "source": [
        "\n",
        "#data3.loc[data3['Hour'] > 12, 'Morning'] = 0\n",
        "#data3.loc[data3['Hour'] < 13, 'Morning'] = 1\n",
        "\n",
        "#data3.loc[data3['Day_of_Week'] > 5, 'Weekday'] = 0\n",
        "#data3.loc[data3['Day_of_Week'] < 6, 'Weekday'] = 1\n",
        "#data3.head(5)\n",
        "scooter_locations = data3.groupby(by=['Census_Tract_Start','Morning','Weekday','Vehicle_Type'], as_index=False).size().reset_index(name=\"Count\").sort_values(by=['Count'], ascending=False)"
      ],
      "execution_count": null,
      "outputs": []
    },
    {
      "cell_type": "code",
      "metadata": {
        "id": "965fAqt6e9S_"
      },
      "source": [
        "scooter_locations.to_csv('/content/gdrive/My Drive/Company Project/locations.csv', index = None, header=True)"
      ],
      "execution_count": null,
      "outputs": []
    },
    {
      "cell_type": "code",
      "metadata": {
        "id": "HZ2WM5esYYaz",
        "colab": {
          "base_uri": "https://localhost:8080/",
          "height": 243
        },
        "outputId": "61d9bbe4-cfe5-4b56-b846-0ad90d05edbc"
      },
      "source": [
        "data2.dtypes"
      ],
      "execution_count": null,
      "outputs": [
        {
          "output_type": "execute_result",
          "data": {
            "text/plain": [
              "ID                    object\n",
              "Vehicle_Type          object\n",
              "Trip_Duration          int64\n",
              "Trip_Distance          int64\n",
              "Start_Time            object\n",
              "End_Time              object\n",
              "Month                  int64\n",
              "Hour                   int64\n",
              "Day_of_Week            int64\n",
              "Year                   int64\n",
              "Census_Tract_Start    object\n",
              "Census_Tract_End      object\n",
              "dtype: object"
            ]
          },
          "metadata": {
            "tags": []
          },
          "execution_count": 23
        }
      ]
    },
    {
      "cell_type": "code",
      "metadata": {
        "id": "J-wNCkJdaS9p"
      },
      "source": [
        "Climate_data = pd.read_csv('/content/gdrive/My Drive/Company Project/Climate5.csv', engine='python')"
      ],
      "execution_count": null,
      "outputs": []
    },
    {
      "cell_type": "code",
      "metadata": {
        "id": "mNXWHcLAbxND"
      },
      "source": [
        "Climate_data['Temp'] = Climate_data['Temp'].str.replace('�C', '')"
      ],
      "execution_count": null,
      "outputs": []
    },
    {
      "cell_type": "code",
      "metadata": {
        "id": "kveT9AnodBIk",
        "colab": {
          "base_uri": "https://localhost:8080/",
          "height": 606
        },
        "outputId": "668bf34a-c6dd-44c6-e4d7-7d8628c888fb"
      },
      "source": [
        "Climate_data"
      ],
      "execution_count": null,
      "outputs": [
        {
          "output_type": "execute_result",
          "data": {
            "text/html": [
              "<div>\n",
              "<style scoped>\n",
              "    .dataframe tbody tr th:only-of-type {\n",
              "        vertical-align: middle;\n",
              "    }\n",
              "\n",
              "    .dataframe tbody tr th {\n",
              "        vertical-align: top;\n",
              "    }\n",
              "\n",
              "    .dataframe thead th {\n",
              "        text-align: right;\n",
              "    }\n",
              "</style>\n",
              "<table border=\"1\" class=\"dataframe\">\n",
              "  <thead>\n",
              "    <tr style=\"text-align: right;\">\n",
              "      <th></th>\n",
              "      <th>Unnamed: 0</th>\n",
              "      <th>Time</th>\n",
              "      <th>Temp</th>\n",
              "      <th>Rel_Temp</th>\n",
              "      <th>Wind</th>\n",
              "      <th>Humidity</th>\n",
              "      <th>Pressure</th>\n",
              "      <th>Weather</th>\n",
              "      <th>Date</th>\n",
              "    </tr>\n",
              "  </thead>\n",
              "  <tbody>\n",
              "    <tr>\n",
              "      <th>0</th>\n",
              "      <td>1</td>\n",
              "      <td>00:51</td>\n",
              "      <td>14</td>\n",
              "      <td>14�C</td>\n",
              "      <td>Calm</td>\n",
              "      <td>94%</td>\n",
              "      <td>1010.0mb</td>\n",
              "      <td>Few clouds</td>\n",
              "      <td>2017-01-01</td>\n",
              "    </tr>\n",
              "    <tr>\n",
              "      <th>1</th>\n",
              "      <td>2</td>\n",
              "      <td>01:20</td>\n",
              "      <td>14</td>\n",
              "      <td>14�C</td>\n",
              "      <td>Calm</td>\n",
              "      <td>94%</td>\n",
              "      <td>1010.0mb</td>\n",
              "      <td>Clear</td>\n",
              "      <td>2017-01-01</td>\n",
              "    </tr>\n",
              "    <tr>\n",
              "      <th>2</th>\n",
              "      <td>3</td>\n",
              "      <td>01:30</td>\n",
              "      <td>14</td>\n",
              "      <td>14�C</td>\n",
              "      <td>6 Km/h</td>\n",
              "      <td>94%</td>\n",
              "      <td>1010.0mb</td>\n",
              "      <td>Cloudy</td>\n",
              "      <td>2017-01-01</td>\n",
              "    </tr>\n",
              "    <tr>\n",
              "      <th>3</th>\n",
              "      <td>4</td>\n",
              "      <td>01:51</td>\n",
              "      <td>14</td>\n",
              "      <td>14�C</td>\n",
              "      <td>Calm</td>\n",
              "      <td>94%</td>\n",
              "      <td>1010.0mb</td>\n",
              "      <td>Cloudy</td>\n",
              "      <td>2017-01-01</td>\n",
              "    </tr>\n",
              "    <tr>\n",
              "      <th>4</th>\n",
              "      <td>5</td>\n",
              "      <td>02:03</td>\n",
              "      <td>14</td>\n",
              "      <td>14�C</td>\n",
              "      <td>Calm</td>\n",
              "      <td>94%</td>\n",
              "      <td>1010.0mb</td>\n",
              "      <td>Cloudy</td>\n",
              "      <td>2017-01-01</td>\n",
              "    </tr>\n",
              "    <tr>\n",
              "      <th>...</th>\n",
              "      <td>...</td>\n",
              "      <td>...</td>\n",
              "      <td>...</td>\n",
              "      <td>...</td>\n",
              "      <td>...</td>\n",
              "      <td>...</td>\n",
              "      <td>...</td>\n",
              "      <td>...</td>\n",
              "      <td>...</td>\n",
              "    </tr>\n",
              "    <tr>\n",
              "      <th>28979</th>\n",
              "      <td>28980</td>\n",
              "      <td>13:51</td>\n",
              "      <td>29</td>\n",
              "      <td>31�C</td>\n",
              "      <td>Calm</td>\n",
              "      <td>58%</td>\n",
              "      <td>1010.0mb</td>\n",
              "      <td>Few clouds</td>\n",
              "      <td>2020-03-26</td>\n",
              "    </tr>\n",
              "    <tr>\n",
              "      <th>28980</th>\n",
              "      <td>28981</td>\n",
              "      <td>14:51</td>\n",
              "      <td>30</td>\n",
              "      <td>32�C</td>\n",
              "      <td>13 Km/h</td>\n",
              "      <td>55%</td>\n",
              "      <td>1009.0mb</td>\n",
              "      <td>Few clouds</td>\n",
              "      <td>2020-03-26</td>\n",
              "    </tr>\n",
              "    <tr>\n",
              "      <th>28981</th>\n",
              "      <td>28982</td>\n",
              "      <td>15:51</td>\n",
              "      <td>31</td>\n",
              "      <td>32�C</td>\n",
              "      <td>Variable at 9 Km/h</td>\n",
              "      <td>49%</td>\n",
              "      <td>1008.0mb</td>\n",
              "      <td>Clear</td>\n",
              "      <td>2020-03-26</td>\n",
              "    </tr>\n",
              "    <tr>\n",
              "      <th>28982</th>\n",
              "      <td>28983</td>\n",
              "      <td>16:51</td>\n",
              "      <td>31</td>\n",
              "      <td>32�C</td>\n",
              "      <td>Variable at 6 Km/h, 28 km/h Wind Gust</td>\n",
              "      <td>49%</td>\n",
              "      <td>1007.0mb</td>\n",
              "      <td>Clear</td>\n",
              "      <td>2020-03-26</td>\n",
              "    </tr>\n",
              "    <tr>\n",
              "      <th>28983</th>\n",
              "      <td>28984</td>\n",
              "      <td>17:51</td>\n",
              "      <td>31</td>\n",
              "      <td>32�C</td>\n",
              "      <td>11 Km/h</td>\n",
              "      <td>49%</td>\n",
              "      <td>1006.0mb</td>\n",
              "      <td>Clear</td>\n",
              "      <td>2020-03-26</td>\n",
              "    </tr>\n",
              "  </tbody>\n",
              "</table>\n",
              "<p>28984 rows × 9 columns</p>\n",
              "</div>"
            ],
            "text/plain": [
              "       Unnamed: 0   Time Temp  ...  Pressure     Weather        Date\n",
              "0               1  00:51   14  ...  1010.0mb  Few clouds  2017-01-01\n",
              "1               2  01:20   14  ...  1010.0mb       Clear  2017-01-01\n",
              "2               3  01:30   14  ...  1010.0mb      Cloudy  2017-01-01\n",
              "3               4  01:51   14  ...  1010.0mb      Cloudy  2017-01-01\n",
              "4               5  02:03   14  ...  1010.0mb      Cloudy  2017-01-01\n",
              "...           ...    ...  ...  ...       ...         ...         ...\n",
              "28979       28980  13:51   29  ...  1010.0mb  Few clouds  2020-03-26\n",
              "28980       28981  14:51   30  ...  1009.0mb  Few clouds  2020-03-26\n",
              "28981       28982  15:51   31  ...  1008.0mb       Clear  2020-03-26\n",
              "28982       28983  16:51   31  ...  1007.0mb       Clear  2020-03-26\n",
              "28983       28984  17:51   31  ...  1006.0mb       Clear  2020-03-26\n",
              "\n",
              "[28984 rows x 9 columns]"
            ]
          },
          "metadata": {
            "tags": []
          },
          "execution_count": 26
        }
      ]
    },
    {
      "cell_type": "code",
      "metadata": {
        "id": "dJ0COYV7fWIy"
      },
      "source": [
        "Climate_data['Wind'] = Climate_data['Wind'].str.replace(' Km/h', '')"
      ],
      "execution_count": null,
      "outputs": []
    },
    {
      "cell_type": "code",
      "metadata": {
        "id": "3-lqBnEzNUXj"
      },
      "source": [
        "Climate_data['Wind'] = Climate_data['Wind'].str.replace(' km/h', '')"
      ],
      "execution_count": null,
      "outputs": []
    },
    {
      "cell_type": "code",
      "metadata": {
        "id": "r2cNN8gDfpZT"
      },
      "source": [
        "Climate_data['Wind'] = Climate_data['Wind'].str.replace('Calm', '0')"
      ],
      "execution_count": null,
      "outputs": []
    },
    {
      "cell_type": "code",
      "metadata": {
        "id": "ELKS2OeQgmXg"
      },
      "source": [
        "Climate_data['Wind'] = Climate_data['Wind'].str.replace(', [0-9][0-9] Wind Gust', '',regex=True)"
      ],
      "execution_count": null,
      "outputs": []
    },
    {
      "cell_type": "code",
      "metadata": {
        "id": "oof11_FYixpd"
      },
      "source": [
        "\n",
        "Climate_data['Wind'] = Climate_data['Wind'].str.replace('Variable at ', '')"
      ],
      "execution_count": null,
      "outputs": []
    },
    {
      "cell_type": "code",
      "metadata": {
        "id": "qmUha5gjkZf0"
      },
      "source": [
        "Climate_data['Wind'] = Climate_data['Wind'].str.replace('Variable at ', '')"
      ],
      "execution_count": null,
      "outputs": []
    },
    {
      "cell_type": "code",
      "metadata": {
        "id": "6nmhJp46cdKb"
      },
      "source": [
        "Climate_data['Rel_Temp'] = Climate_data['Rel_Temp'].str.replace('�C', '')"
      ],
      "execution_count": null,
      "outputs": []
    },
    {
      "cell_type": "code",
      "metadata": {
        "id": "1Yg92NDudWqk"
      },
      "source": [
        "Climate_data['Pressure'] = Climate_data['Pressure'].str.replace('mb', '')"
      ],
      "execution_count": null,
      "outputs": []
    },
    {
      "cell_type": "code",
      "metadata": {
        "id": "7Exnxl03RghT",
        "colab": {
          "base_uri": "https://localhost:8080/",
          "height": 202
        },
        "outputId": "22c46292-7b65-4883-f79d-73a73293b269"
      },
      "source": [
        "Climate_data['Time'] = Climate_data['Time'].str.replace(':[0-9][0-9]', '')\n",
        "\n",
        "Climate_data.head()"
      ],
      "execution_count": null,
      "outputs": [
        {
          "output_type": "execute_result",
          "data": {
            "text/html": [
              "<div>\n",
              "<style scoped>\n",
              "    .dataframe tbody tr th:only-of-type {\n",
              "        vertical-align: middle;\n",
              "    }\n",
              "\n",
              "    .dataframe tbody tr th {\n",
              "        vertical-align: top;\n",
              "    }\n",
              "\n",
              "    .dataframe thead th {\n",
              "        text-align: right;\n",
              "    }\n",
              "</style>\n",
              "<table border=\"1\" class=\"dataframe\">\n",
              "  <thead>\n",
              "    <tr style=\"text-align: right;\">\n",
              "      <th></th>\n",
              "      <th>Unnamed: 0</th>\n",
              "      <th>Time</th>\n",
              "      <th>Temp</th>\n",
              "      <th>Rel_Temp</th>\n",
              "      <th>Wind</th>\n",
              "      <th>Humidity</th>\n",
              "      <th>Pressure</th>\n",
              "      <th>Weather</th>\n",
              "      <th>Date</th>\n",
              "    </tr>\n",
              "  </thead>\n",
              "  <tbody>\n",
              "    <tr>\n",
              "      <th>0</th>\n",
              "      <td>1</td>\n",
              "      <td>00</td>\n",
              "      <td>14</td>\n",
              "      <td>14</td>\n",
              "      <td>0</td>\n",
              "      <td>94%</td>\n",
              "      <td>1010.0</td>\n",
              "      <td>Few clouds</td>\n",
              "      <td>2017-01-01</td>\n",
              "    </tr>\n",
              "    <tr>\n",
              "      <th>1</th>\n",
              "      <td>2</td>\n",
              "      <td>01</td>\n",
              "      <td>14</td>\n",
              "      <td>14</td>\n",
              "      <td>0</td>\n",
              "      <td>94%</td>\n",
              "      <td>1010.0</td>\n",
              "      <td>Clear</td>\n",
              "      <td>2017-01-01</td>\n",
              "    </tr>\n",
              "    <tr>\n",
              "      <th>2</th>\n",
              "      <td>3</td>\n",
              "      <td>01</td>\n",
              "      <td>14</td>\n",
              "      <td>14</td>\n",
              "      <td>6</td>\n",
              "      <td>94%</td>\n",
              "      <td>1010.0</td>\n",
              "      <td>Cloudy</td>\n",
              "      <td>2017-01-01</td>\n",
              "    </tr>\n",
              "    <tr>\n",
              "      <th>3</th>\n",
              "      <td>4</td>\n",
              "      <td>01</td>\n",
              "      <td>14</td>\n",
              "      <td>14</td>\n",
              "      <td>0</td>\n",
              "      <td>94%</td>\n",
              "      <td>1010.0</td>\n",
              "      <td>Cloudy</td>\n",
              "      <td>2017-01-01</td>\n",
              "    </tr>\n",
              "    <tr>\n",
              "      <th>4</th>\n",
              "      <td>5</td>\n",
              "      <td>02</td>\n",
              "      <td>14</td>\n",
              "      <td>14</td>\n",
              "      <td>0</td>\n",
              "      <td>94%</td>\n",
              "      <td>1010.0</td>\n",
              "      <td>Cloudy</td>\n",
              "      <td>2017-01-01</td>\n",
              "    </tr>\n",
              "  </tbody>\n",
              "</table>\n",
              "</div>"
            ],
            "text/plain": [
              "   Unnamed: 0 Time Temp Rel_Temp Wind Humidity Pressure     Weather        Date\n",
              "0           1   00   14       14    0      94%   1010.0  Few clouds  2017-01-01\n",
              "1           2   01   14       14    0      94%   1010.0       Clear  2017-01-01\n",
              "2           3   01   14       14    6      94%   1010.0      Cloudy  2017-01-01\n",
              "3           4   01   14       14    0      94%   1010.0      Cloudy  2017-01-01\n",
              "4           5   02   14       14    0      94%   1010.0      Cloudy  2017-01-01"
            ]
          },
          "metadata": {
            "tags": []
          },
          "execution_count": 35
        }
      ]
    },
    {
      "cell_type": "code",
      "metadata": {
        "id": "wUj4lXZJTf6b"
      },
      "source": [
        "Climate_data = Climate_data.groupby(by=['Date','Time'], as_index=False).last()"
      ],
      "execution_count": null,
      "outputs": []
    },
    {
      "cell_type": "code",
      "metadata": {
        "id": "MJSJ9G5EWKNx",
        "colab": {
          "base_uri": "https://localhost:8080/",
          "height": 202
        },
        "outputId": "45995951-5534-4560-f855-ec9ad10d6084"
      },
      "source": [
        "Climate_data.tail()"
      ],
      "execution_count": null,
      "outputs": [
        {
          "output_type": "execute_result",
          "data": {
            "text/html": [
              "<div>\n",
              "<style scoped>\n",
              "    .dataframe tbody tr th:only-of-type {\n",
              "        vertical-align: middle;\n",
              "    }\n",
              "\n",
              "    .dataframe tbody tr th {\n",
              "        vertical-align: top;\n",
              "    }\n",
              "\n",
              "    .dataframe thead th {\n",
              "        text-align: right;\n",
              "    }\n",
              "</style>\n",
              "<table border=\"1\" class=\"dataframe\">\n",
              "  <thead>\n",
              "    <tr style=\"text-align: right;\">\n",
              "      <th></th>\n",
              "      <th>Date</th>\n",
              "      <th>Time</th>\n",
              "      <th>Unnamed: 0</th>\n",
              "      <th>Temp</th>\n",
              "      <th>Rel_Temp</th>\n",
              "      <th>Wind</th>\n",
              "      <th>Humidity</th>\n",
              "      <th>Pressure</th>\n",
              "      <th>Weather</th>\n",
              "    </tr>\n",
              "  </thead>\n",
              "  <tbody>\n",
              "    <tr>\n",
              "      <th>22696</th>\n",
              "      <td>2020-03-26</td>\n",
              "      <td>13</td>\n",
              "      <td>28980</td>\n",
              "      <td>29</td>\n",
              "      <td>31</td>\n",
              "      <td>0</td>\n",
              "      <td>58%</td>\n",
              "      <td>1010.0</td>\n",
              "      <td>Few clouds</td>\n",
              "    </tr>\n",
              "    <tr>\n",
              "      <th>22697</th>\n",
              "      <td>2020-03-26</td>\n",
              "      <td>14</td>\n",
              "      <td>28981</td>\n",
              "      <td>30</td>\n",
              "      <td>32</td>\n",
              "      <td>13</td>\n",
              "      <td>55%</td>\n",
              "      <td>1009.0</td>\n",
              "      <td>Few clouds</td>\n",
              "    </tr>\n",
              "    <tr>\n",
              "      <th>22698</th>\n",
              "      <td>2020-03-26</td>\n",
              "      <td>15</td>\n",
              "      <td>28982</td>\n",
              "      <td>31</td>\n",
              "      <td>32</td>\n",
              "      <td>9</td>\n",
              "      <td>49%</td>\n",
              "      <td>1008.0</td>\n",
              "      <td>Clear</td>\n",
              "    </tr>\n",
              "    <tr>\n",
              "      <th>22699</th>\n",
              "      <td>2020-03-26</td>\n",
              "      <td>16</td>\n",
              "      <td>28983</td>\n",
              "      <td>31</td>\n",
              "      <td>32</td>\n",
              "      <td>6</td>\n",
              "      <td>49%</td>\n",
              "      <td>1007.0</td>\n",
              "      <td>Clear</td>\n",
              "    </tr>\n",
              "    <tr>\n",
              "      <th>22700</th>\n",
              "      <td>2020-03-26</td>\n",
              "      <td>17</td>\n",
              "      <td>28984</td>\n",
              "      <td>31</td>\n",
              "      <td>32</td>\n",
              "      <td>11</td>\n",
              "      <td>49%</td>\n",
              "      <td>1006.0</td>\n",
              "      <td>Clear</td>\n",
              "    </tr>\n",
              "  </tbody>\n",
              "</table>\n",
              "</div>"
            ],
            "text/plain": [
              "             Date Time  Unnamed: 0 Temp  ... Wind Humidity Pressure     Weather\n",
              "22696  2020-03-26   13       28980   29  ...    0      58%   1010.0  Few clouds\n",
              "22697  2020-03-26   14       28981   30  ...   13      55%   1009.0  Few clouds\n",
              "22698  2020-03-26   15       28982   31  ...    9      49%   1008.0       Clear\n",
              "22699  2020-03-26   16       28983   31  ...    6      49%   1007.0       Clear\n",
              "22700  2020-03-26   17       28984   31  ...   11      49%   1006.0       Clear\n",
              "\n",
              "[5 rows x 9 columns]"
            ]
          },
          "metadata": {
            "tags": []
          },
          "execution_count": 37
        }
      ]
    },
    {
      "cell_type": "code",
      "metadata": {
        "id": "u_QJ9zdnqzw8"
      },
      "source": [
        "Climate_data[\"Time\"] = Climate_data[\"Time\"].astype(\"int\")\n",
        "Climate_data[\"Temp\"] = Climate_data[\"Temp\"].astype(\"int\")\n",
        "Climate_data['Rel_Temp'] = Climate_data['Rel_Temp'].astype(\"int\")\n",
        "Climate_data['Wind'] = Climate_data['Wind'].astype(\"int\")\n",
        "#data2[\"Start_Time\"] =  pd.to_datetime('Start_Time', format='%Y-%m-%d')\n",
        "Climate_data[\"Date\"] =  pd.to_datetime(Climate_data['Date'], format='%Y-%m-%d')\n",
        "Climate_data['Humidity'] = Climate_data['Humidity'].str.replace('%', '')\n",
        "Climate_data['Humidity'] = pd.to_numeric(Climate_data['Humidity'], errors='coerce')\n",
        "#Climate_data[\"Humidity\"] = Climate_data[\"Humidity\"].astype('int64')\n",
        "Climate_data[\"Pressure\"] = Climate_data[\"Pressure\"].astype(\"float\")\n",
        "#data2[\"Day_of_Week\"] = data2[\"Day_of_Week\"].astype(\"int\")\n",
        "#data2[\"Year\"] = data2[\"Year\"].astype(\"int\")"
      ],
      "execution_count": null,
      "outputs": []
    },
    {
      "cell_type": "code",
      "metadata": {
        "id": "WXUi-j31tvdN",
        "colab": {
          "base_uri": "https://localhost:8080/",
          "height": 52
        },
        "outputId": "a27ff912-fb44-48a4-f972-e717f645e746"
      },
      "source": [
        "Climate_data['Weather'].unique()"
      ],
      "execution_count": null,
      "outputs": [
        {
          "output_type": "execute_result",
          "data": {
            "text/plain": [
              "array(['Few clouds', 'Cloudy', 'Clear', 'Partly cloudy', 'Thunder',\n",
              "       'Rain', 'Snow'], dtype=object)"
            ]
          },
          "metadata": {
            "tags": []
          },
          "execution_count": 39
        }
      ]
    },
    {
      "cell_type": "code",
      "metadata": {
        "id": "JOHB-VUzuwOt"
      },
      "source": [
        "Climate_data = Climate_data.drop(Climate_data.columns[2], axis=1)"
      ],
      "execution_count": null,
      "outputs": []
    },
    {
      "cell_type": "code",
      "metadata": {
        "id": "FIAQQuQtvHVU"
      },
      "source": [
        "Climate_data = Climate_data.rename(columns={'Time': 'Hour'})"
      ],
      "execution_count": null,
      "outputs": []
    },
    {
      "cell_type": "code",
      "metadata": {
        "id": "_9L0j2H9xNnV"
      },
      "source": [
        "data3 = data3.rename(columns={'Start_Time': 'Date'})"
      ],
      "execution_count": null,
      "outputs": []
    },
    {
      "cell_type": "code",
      "metadata": {
        "id": "Lz558n4cvy5h",
        "colab": {
          "base_uri": "https://localhost:8080/",
          "height": 173
        },
        "outputId": "cb46c7da-fef6-4ee4-83da-9e92dc9eaf66"
      },
      "source": [
        "data3[\"Date\"] =  pd.to_datetime(data3['Date'], format='%Y-%m-%d')\n",
        "data3.dtypes"
      ],
      "execution_count": null,
      "outputs": [
        {
          "output_type": "execute_result",
          "data": {
            "text/plain": [
              "ID                            object\n",
              "Vehicle_Type                  object\n",
              "Date                  datetime64[ns]\n",
              "Month                          int64\n",
              "Hour                           int64\n",
              "Day_of_Week                    int64\n",
              "Year                           int64\n",
              "Census_Tract_Start            object\n",
              "dtype: object"
            ]
          },
          "metadata": {
            "tags": []
          },
          "execution_count": 43
        }
      ]
    },
    {
      "cell_type": "code",
      "metadata": {
        "id": "ZPmt-qXcK9xw",
        "colab": {
          "base_uri": "https://localhost:8080/",
          "height": 35
        },
        "outputId": "f32ec414-29ca-42a8-bc3b-0c97af9ee05c"
      },
      "source": [
        "len(data3[\"Census_Tract_Start\"].unique())"
      ],
      "execution_count": null,
      "outputs": [
        {
          "output_type": "execute_result",
          "data": {
            "text/plain": [
              "291"
            ]
          },
          "metadata": {
            "tags": []
          },
          "execution_count": 44
        }
      ]
    },
    {
      "cell_type": "code",
      "metadata": {
        "id": "ZENRCTq91Hg5",
        "colab": {
          "base_uri": "https://localhost:8080/",
          "height": 202
        },
        "outputId": "0344429c-9f3d-43a3-9d62-d42cce6e3ac1"
      },
      "source": [
        "Tripcount_data = data3.groupby(by=['Date','Month','Hour','Day_of_Week','Year','Vehicle_Type'], as_index=False).size().reset_index(name=\"Count\").sort_values(by=['Count'], ascending=False)\n",
        "Tripcount_data.head()"
      ],
      "execution_count": null,
      "outputs": [
        {
          "output_type": "execute_result",
          "data": {
            "text/html": [
              "<div>\n",
              "<style scoped>\n",
              "    .dataframe tbody tr th:only-of-type {\n",
              "        vertical-align: middle;\n",
              "    }\n",
              "\n",
              "    .dataframe tbody tr th {\n",
              "        vertical-align: top;\n",
              "    }\n",
              "\n",
              "    .dataframe thead th {\n",
              "        text-align: right;\n",
              "    }\n",
              "</style>\n",
              "<table border=\"1\" class=\"dataframe\">\n",
              "  <thead>\n",
              "    <tr style=\"text-align: right;\">\n",
              "      <th></th>\n",
              "      <th>Date</th>\n",
              "      <th>Month</th>\n",
              "      <th>Hour</th>\n",
              "      <th>Day_of_Week</th>\n",
              "      <th>Year</th>\n",
              "      <th>Vehicle_Type</th>\n",
              "      <th>Count</th>\n",
              "    </tr>\n",
              "  </thead>\n",
              "  <tbody>\n",
              "    <tr>\n",
              "      <th>21165</th>\n",
              "      <td>2019-09-07</td>\n",
              "      <td>9</td>\n",
              "      <td>16</td>\n",
              "      <td>6</td>\n",
              "      <td>2019</td>\n",
              "      <td>scooter</td>\n",
              "      <td>4784</td>\n",
              "    </tr>\n",
              "    <tr>\n",
              "      <th>12968</th>\n",
              "      <td>2019-03-16</td>\n",
              "      <td>3</td>\n",
              "      <td>17</td>\n",
              "      <td>6</td>\n",
              "      <td>2019</td>\n",
              "      <td>scooter</td>\n",
              "      <td>4736</td>\n",
              "    </tr>\n",
              "    <tr>\n",
              "      <th>12634</th>\n",
              "      <td>2019-03-09</td>\n",
              "      <td>3</td>\n",
              "      <td>16</td>\n",
              "      <td>6</td>\n",
              "      <td>2019</td>\n",
              "      <td>scooter</td>\n",
              "      <td>4617</td>\n",
              "    </tr>\n",
              "    <tr>\n",
              "      <th>12638</th>\n",
              "      <td>2019-03-09</td>\n",
              "      <td>3</td>\n",
              "      <td>18</td>\n",
              "      <td>6</td>\n",
              "      <td>2019</td>\n",
              "      <td>scooter</td>\n",
              "      <td>4599</td>\n",
              "    </tr>\n",
              "    <tr>\n",
              "      <th>12632</th>\n",
              "      <td>2019-03-09</td>\n",
              "      <td>3</td>\n",
              "      <td>15</td>\n",
              "      <td>6</td>\n",
              "      <td>2019</td>\n",
              "      <td>scooter</td>\n",
              "      <td>4576</td>\n",
              "    </tr>\n",
              "  </tbody>\n",
              "</table>\n",
              "</div>"
            ],
            "text/plain": [
              "            Date  Month  Hour  Day_of_Week  Year Vehicle_Type  Count\n",
              "21165 2019-09-07      9    16            6  2019      scooter   4784\n",
              "12968 2019-03-16      3    17            6  2019      scooter   4736\n",
              "12634 2019-03-09      3    16            6  2019      scooter   4617\n",
              "12638 2019-03-09      3    18            6  2019      scooter   4599\n",
              "12632 2019-03-09      3    15            6  2019      scooter   4576"
            ]
          },
          "metadata": {
            "tags": []
          },
          "execution_count": 45
        }
      ]
    },
    {
      "cell_type": "code",
      "metadata": {
        "id": "GbKl5AYr9FYN"
      },
      "source": [
        "#What are the Stations with high usage rate.\n",
        "toplocations = data3.groupby(by=['Census_Tract_Start'], as_index=False).size().reset_index(name=\"Count\").sort_values(by=[ 'Count'], ascending=False).head(15)#['Census_Tract_Start'].head(15)\n",
        "#locationwise.head(15)#[locationwise['Vehicle_Type'] == 'bicycle'].head(15)#['Census_Tract_Start'].unique()\n",
        "toplocations = toplocations.drop('Count', axis=1)"
      ],
      "execution_count": null,
      "outputs": []
    },
    {
      "cell_type": "code",
      "metadata": {
        "id": "Hnz0dUhHUOQM",
        "colab": {
          "base_uri": "https://localhost:8080/",
          "height": 509
        },
        "outputId": "14d1369c-74c1-4c92-c63f-ec9299637700"
      },
      "source": [
        "toplocations\n",
        "Downtown\n",
        "The Drag\n",
        "West campus\n"
      ],
      "execution_count": null,
      "outputs": [
        {
          "output_type": "execute_result",
          "data": {
            "text/html": [
              "<div>\n",
              "<style scoped>\n",
              "    .dataframe tbody tr th:only-of-type {\n",
              "        vertical-align: middle;\n",
              "    }\n",
              "\n",
              "    .dataframe tbody tr th {\n",
              "        vertical-align: top;\n",
              "    }\n",
              "\n",
              "    .dataframe thead th {\n",
              "        text-align: right;\n",
              "    }\n",
              "</style>\n",
              "<table border=\"1\" class=\"dataframe\">\n",
              "  <thead>\n",
              "    <tr style=\"text-align: right;\">\n",
              "      <th></th>\n",
              "      <th>Census_Tract_Start</th>\n",
              "    </tr>\n",
              "  </thead>\n",
              "  <tbody>\n",
              "    <tr>\n",
              "      <th>48</th>\n",
              "      <td>48453001100</td>\n",
              "    </tr>\n",
              "    <tr>\n",
              "      <th>37</th>\n",
              "      <td>48453000601</td>\n",
              "    </tr>\n",
              "    <tr>\n",
              "      <th>38</th>\n",
              "      <td>48453000603</td>\n",
              "    </tr>\n",
              "    <tr>\n",
              "      <th>52</th>\n",
              "      <td>48453001305</td>\n",
              "    </tr>\n",
              "    <tr>\n",
              "      <th>39</th>\n",
              "      <td>48453000604</td>\n",
              "    </tr>\n",
              "    <tr>\n",
              "      <th>46</th>\n",
              "      <td>48453000902</td>\n",
              "    </tr>\n",
              "    <tr>\n",
              "      <th>49</th>\n",
              "      <td>48453001200</td>\n",
              "    </tr>\n",
              "    <tr>\n",
              "      <th>40</th>\n",
              "      <td>48453000700</td>\n",
              "    </tr>\n",
              "    <tr>\n",
              "      <th>50</th>\n",
              "      <td>48453001303</td>\n",
              "    </tr>\n",
              "    <tr>\n",
              "      <th>55</th>\n",
              "      <td>48453001401</td>\n",
              "    </tr>\n",
              "    <tr>\n",
              "      <th>34</th>\n",
              "      <td>48453000401</td>\n",
              "    </tr>\n",
              "    <tr>\n",
              "      <th>197</th>\n",
              "      <td>48453002304</td>\n",
              "    </tr>\n",
              "    <tr>\n",
              "      <th>47</th>\n",
              "      <td>48453001000</td>\n",
              "    </tr>\n",
              "    <tr>\n",
              "      <th>36</th>\n",
              "      <td>48453000500</td>\n",
              "    </tr>\n",
              "    <tr>\n",
              "      <th>32</th>\n",
              "      <td>48453000306</td>\n",
              "    </tr>\n",
              "  </tbody>\n",
              "</table>\n",
              "</div>"
            ],
            "text/plain": [
              "    Census_Tract_Start\n",
              "48         48453001100\n",
              "37         48453000601\n",
              "38         48453000603\n",
              "52         48453001305\n",
              "39         48453000604\n",
              "46         48453000902\n",
              "49         48453001200\n",
              "40         48453000700\n",
              "50         48453001303\n",
              "55         48453001401\n",
              "34         48453000401\n",
              "197        48453002304\n",
              "47         48453001000\n",
              "36         48453000500\n",
              "32         48453000306"
            ]
          },
          "metadata": {
            "tags": []
          },
          "execution_count": 47
        }
      ]
    },
    {
      "cell_type": "code",
      "metadata": {
        "id": "ZR2GYOZAW060",
        "colab": {
          "base_uri": "https://localhost:8080/",
          "height": 35
        },
        "outputId": "7459e06d-04c6-4cc6-90a3-87e61e6e0305"
      },
      "source": [
        "Tripcount_data1 = data3.groupby(by=['Date','Month','Hour','Day_of_Week','Year','Vehicle_Type','Census_Tract_Start'], as_index=False).size().reset_index(name=\"Count\").sort_values(by=['Count'], ascending=False)\n",
        "Trip_data = pd.merge(Tripcount_data1, toplocations, how='inner', on=['Census_Tract_Start'])\n",
        "Trip_data.shape"
      ],
      "execution_count": null,
      "outputs": [
        {
          "output_type": "execute_result",
          "data": {
            "text/plain": [
              "(309640, 8)"
            ]
          },
          "metadata": {
            "tags": []
          },
          "execution_count": 96
        }
      ]
    },
    {
      "cell_type": "code",
      "metadata": {
        "id": "Xzkt_2Rf_I1k",
        "colab": {
          "base_uri": "https://localhost:8080/",
          "height": 35
        },
        "outputId": "d6f3a641-a1ec-485e-e022-27d23562cb3d"
      },
      "source": [
        "#What is the average trip duration.\n",
        "len(data['Census_Tract_Start'].unique())"
      ],
      "execution_count": null,
      "outputs": [
        {
          "output_type": "execute_result",
          "data": {
            "text/plain": [
              "292"
            ]
          },
          "metadata": {
            "tags": []
          },
          "execution_count": 49
        }
      ]
    },
    {
      "cell_type": "code",
      "metadata": {
        "id": "6uxOZ9CBCJS-"
      },
      "source": [
        "Climate_data=Climate_data[Climate_data['Date'] < '2020-03-22']"
      ],
      "execution_count": null,
      "outputs": []
    },
    {
      "cell_type": "code",
      "metadata": {
        "id": "0Yq4URXtcvK4"
      },
      "source": [
        "missingclimate= pd.read_csv('/content/gdrive/My Drive/Company Project/missingclimate.csv')"
      ],
      "execution_count": null,
      "outputs": []
    },
    {
      "cell_type": "code",
      "metadata": {
        "id": "wbF567OHdJ0L"
      },
      "source": [
        "missingclimate['Temp']=(missingclimate['Temp']-32)*.555"
      ],
      "execution_count": null,
      "outputs": []
    },
    {
      "cell_type": "code",
      "metadata": {
        "id": "s9FO78Ykebs-",
        "colab": {
          "base_uri": "https://localhost:8080/",
          "height": 509
        },
        "outputId": "fc75feec-74b9-4e4b-9b72-c8e18f35d037"
      },
      "source": [
        "missingclimate.head(15)\n",
        "#nan, 'Cloudy', 'Partly cloudy', 'Clear', 'Few clouds', 'Rain',\n",
        "#       'Thunder', 'Snow'\n",
        "#missingclimate[missingclimate['Date'] == '2019-03-09']"
      ],
      "execution_count": null,
      "outputs": [
        {
          "output_type": "execute_result",
          "data": {
            "text/html": [
              "<div>\n",
              "<style scoped>\n",
              "    .dataframe tbody tr th:only-of-type {\n",
              "        vertical-align: middle;\n",
              "    }\n",
              "\n",
              "    .dataframe tbody tr th {\n",
              "        vertical-align: top;\n",
              "    }\n",
              "\n",
              "    .dataframe thead th {\n",
              "        text-align: right;\n",
              "    }\n",
              "</style>\n",
              "<table border=\"1\" class=\"dataframe\">\n",
              "  <thead>\n",
              "    <tr style=\"text-align: right;\">\n",
              "      <th></th>\n",
              "      <th>Unnamed: 0</th>\n",
              "      <th>Time</th>\n",
              "      <th>Temp</th>\n",
              "      <th>Wind</th>\n",
              "      <th>Humidity</th>\n",
              "      <th>Pressure</th>\n",
              "      <th>Weather</th>\n",
              "      <th>Date</th>\n",
              "    </tr>\n",
              "  </thead>\n",
              "  <tbody>\n",
              "    <tr>\n",
              "      <th>0</th>\n",
              "      <td>1</td>\n",
              "      <td>12:53 AM</td>\n",
              "      <td>26.085</td>\n",
              "      <td>10</td>\n",
              "      <td>88</td>\n",
              "      <td>29.34</td>\n",
              "      <td>Cloudy</td>\n",
              "      <td>2018-06-18</td>\n",
              "    </tr>\n",
              "    <tr>\n",
              "      <th>1</th>\n",
              "      <td>2</td>\n",
              "      <td>1:43 AM</td>\n",
              "      <td>26.085</td>\n",
              "      <td>9</td>\n",
              "      <td>84</td>\n",
              "      <td>29.34</td>\n",
              "      <td>Cloudy</td>\n",
              "      <td>2018-06-18</td>\n",
              "    </tr>\n",
              "    <tr>\n",
              "      <th>2</th>\n",
              "      <td>3</td>\n",
              "      <td>1:53 AM</td>\n",
              "      <td>25.530</td>\n",
              "      <td>9</td>\n",
              "      <td>87</td>\n",
              "      <td>29.34</td>\n",
              "      <td>Mostly Cloudy</td>\n",
              "      <td>2018-06-18</td>\n",
              "    </tr>\n",
              "    <tr>\n",
              "      <th>3</th>\n",
              "      <td>4</td>\n",
              "      <td>2:13 AM</td>\n",
              "      <td>25.530</td>\n",
              "      <td>5</td>\n",
              "      <td>87</td>\n",
              "      <td>29.34</td>\n",
              "      <td>Mostly Cloudy</td>\n",
              "      <td>2018-06-18</td>\n",
              "    </tr>\n",
              "    <tr>\n",
              "      <th>4</th>\n",
              "      <td>5</td>\n",
              "      <td>2:53 AM</td>\n",
              "      <td>24.975</td>\n",
              "      <td>7</td>\n",
              "      <td>90</td>\n",
              "      <td>29.33</td>\n",
              "      <td>Cloudy</td>\n",
              "      <td>2018-06-18</td>\n",
              "    </tr>\n",
              "    <tr>\n",
              "      <th>5</th>\n",
              "      <td>6</td>\n",
              "      <td>3:53 AM</td>\n",
              "      <td>24.420</td>\n",
              "      <td>5</td>\n",
              "      <td>97</td>\n",
              "      <td>29.32</td>\n",
              "      <td>Light Rain</td>\n",
              "      <td>2018-06-18</td>\n",
              "    </tr>\n",
              "    <tr>\n",
              "      <th>6</th>\n",
              "      <td>7</td>\n",
              "      <td>4:35 AM</td>\n",
              "      <td>23.865</td>\n",
              "      <td>0</td>\n",
              "      <td>96</td>\n",
              "      <td>29.32</td>\n",
              "      <td>Mostly Cloudy</td>\n",
              "      <td>2018-06-18</td>\n",
              "    </tr>\n",
              "    <tr>\n",
              "      <th>7</th>\n",
              "      <td>8</td>\n",
              "      <td>4:43 AM</td>\n",
              "      <td>23.865</td>\n",
              "      <td>5</td>\n",
              "      <td>96</td>\n",
              "      <td>29.32</td>\n",
              "      <td>Cloudy</td>\n",
              "      <td>2018-06-18</td>\n",
              "    </tr>\n",
              "    <tr>\n",
              "      <th>8</th>\n",
              "      <td>9</td>\n",
              "      <td>4:53 AM</td>\n",
              "      <td>23.865</td>\n",
              "      <td>0</td>\n",
              "      <td>100</td>\n",
              "      <td>29.32</td>\n",
              "      <td>Cloudy</td>\n",
              "      <td>2018-06-18</td>\n",
              "    </tr>\n",
              "    <tr>\n",
              "      <th>9</th>\n",
              "      <td>10</td>\n",
              "      <td>5:39 AM</td>\n",
              "      <td>23.865</td>\n",
              "      <td>0</td>\n",
              "      <td>96</td>\n",
              "      <td>29.32</td>\n",
              "      <td>Light Rain</td>\n",
              "      <td>2018-06-18</td>\n",
              "    </tr>\n",
              "    <tr>\n",
              "      <th>10</th>\n",
              "      <td>11</td>\n",
              "      <td>5:53 AM</td>\n",
              "      <td>23.865</td>\n",
              "      <td>6</td>\n",
              "      <td>96</td>\n",
              "      <td>29.33</td>\n",
              "      <td>Light Rain</td>\n",
              "      <td>2018-06-18</td>\n",
              "    </tr>\n",
              "    <tr>\n",
              "      <th>11</th>\n",
              "      <td>12</td>\n",
              "      <td>6:31 AM</td>\n",
              "      <td>23.865</td>\n",
              "      <td>6</td>\n",
              "      <td>96</td>\n",
              "      <td>29.34</td>\n",
              "      <td>Cloudy</td>\n",
              "      <td>2018-06-18</td>\n",
              "    </tr>\n",
              "    <tr>\n",
              "      <th>12</th>\n",
              "      <td>13</td>\n",
              "      <td>6:53 AM</td>\n",
              "      <td>23.865</td>\n",
              "      <td>6</td>\n",
              "      <td>96</td>\n",
              "      <td>29.34</td>\n",
              "      <td>Light Rain</td>\n",
              "      <td>2018-06-18</td>\n",
              "    </tr>\n",
              "    <tr>\n",
              "      <th>13</th>\n",
              "      <td>14</td>\n",
              "      <td>7:14 AM</td>\n",
              "      <td>23.865</td>\n",
              "      <td>6</td>\n",
              "      <td>96</td>\n",
              "      <td>29.34</td>\n",
              "      <td>Light Rain</td>\n",
              "      <td>2018-06-18</td>\n",
              "    </tr>\n",
              "    <tr>\n",
              "      <th>14</th>\n",
              "      <td>15</td>\n",
              "      <td>7:53 AM</td>\n",
              "      <td>24.420</td>\n",
              "      <td>6</td>\n",
              "      <td>97</td>\n",
              "      <td>29.36</td>\n",
              "      <td>Mostly Cloudy</td>\n",
              "      <td>2018-06-18</td>\n",
              "    </tr>\n",
              "  </tbody>\n",
              "</table>\n",
              "</div>"
            ],
            "text/plain": [
              "    Unnamed: 0      Time    Temp  ...  Pressure        Weather        Date\n",
              "0            1  12:53 AM  26.085  ...     29.34         Cloudy  2018-06-18\n",
              "1            2   1:43 AM  26.085  ...     29.34         Cloudy  2018-06-18\n",
              "2            3   1:53 AM  25.530  ...     29.34  Mostly Cloudy  2018-06-18\n",
              "3            4   2:13 AM  25.530  ...     29.34  Mostly Cloudy  2018-06-18\n",
              "4            5   2:53 AM  24.975  ...     29.33         Cloudy  2018-06-18\n",
              "5            6   3:53 AM  24.420  ...     29.32     Light Rain  2018-06-18\n",
              "6            7   4:35 AM  23.865  ...     29.32  Mostly Cloudy  2018-06-18\n",
              "7            8   4:43 AM  23.865  ...     29.32         Cloudy  2018-06-18\n",
              "8            9   4:53 AM  23.865  ...     29.32         Cloudy  2018-06-18\n",
              "9           10   5:39 AM  23.865  ...     29.32     Light Rain  2018-06-18\n",
              "10          11   5:53 AM  23.865  ...     29.33     Light Rain  2018-06-18\n",
              "11          12   6:31 AM  23.865  ...     29.34         Cloudy  2018-06-18\n",
              "12          13   6:53 AM  23.865  ...     29.34     Light Rain  2018-06-18\n",
              "13          14   7:14 AM  23.865  ...     29.34     Light Rain  2018-06-18\n",
              "14          15   7:53 AM  24.420  ...     29.36  Mostly Cloudy  2018-06-18\n",
              "\n",
              "[15 rows x 8 columns]"
            ]
          },
          "metadata": {
            "tags": []
          },
          "execution_count": 53
        }
      ]
    },
    {
      "cell_type": "code",
      "metadata": {
        "id": "hZrafKVNtfD6"
      },
      "source": [
        "missingclimate['Weather'] = missingclimate['Weather'].str.replace('Mostly Cloudy', 'Cloudy')\n",
        "missingclimate['Weather'] = missingclimate['Weather'].str.replace('Light Rain', 'Rain')\n",
        "missingclimate['Weather'] = missingclimate['Weather'].str.replace('Fog', 'Rain')\n",
        "missingclimate['Weather'] = missingclimate['Weather'].str.replace('Haze', 'Rain')\n",
        "missingclimate['Weather'] = missingclimate['Weather'].str.replace('Drizzle and Rain', 'Rain')\n",
        "missingclimate['Weather'] = missingclimate['Weather'].str.replace('Patches of Rain', 'Rain')\n",
        "missingclimate['Weather'] = missingclimate['Weather'].str.replace('Drizzle and Rain', 'Rain')\n",
        "missingclimate['Weather'] = missingclimate['Weather'].str.replace('Shallow Rain', 'Rain')\n",
        "missingclimate['Weather'] = missingclimate['Weather'].str.replace('Rain with Thunder', 'Rain')\n",
        "missingclimate['Weather'] = missingclimate['Weather'].str.replace('Fair', 'Clear')\n",
        "missingclimate['Weather'] = missingclimate['Weather'].str.replace('Fair / Windy', 'Clear')\n",
        "missingclimate['Weather'] = missingclimate['Weather'].str.replace('Clear / Windy', 'Clear')\n",
        "missingclimate['Weather'] = missingclimate['Weather'].str.replace('Partly Cloudy / Windy', 'Partly Cloudy')\n",
        "missingclimate['Weather'] = missingclimate['Weather'].str.replace('Mostly Cloudy / Windy', 'Cloudy')\n",
        "missingclimate['Weather'] = missingclimate['Weather'].str.replace('Light Rain with Thunder', 'Rain')\n",
        "missingclimate['Weather'] = missingclimate['Weather'].str.replace('T-Storm', 'Thunder')\n",
        "missingclimate['Weather'] = missingclimate['Weather'].str.replace('Heavy T-Storm', 'Thunder')\n",
        "missingclimate['Weather'] = missingclimate['Weather'].str.replace('Cloudy / Windy', 'Cloudy')\n",
        "missingclimate['Weather'] = missingclimate['Weather'].str.replace('Thunder in the Vicinity', 'Thunder')\n",
        "missingclimate['Weather'] = missingclimate['Weather'].str.replace('Heavy Thunder', 'Thunder')\n",
        "missingclimate['Weather'] = missingclimate['Weather'].str.replace('Heavy Rain', 'Rain')\n",
        "missingclimate['Weather'] = missingclimate['Weather'].str.replace('Light Drizzle', 'Rain')\n",
        "missingclimate['Weather'] = missingclimate['Weather'].str.replace('Drizzle and Fog', 'Rain')\n",
        "missingclimate['Weather'] = missingclimate['Weather'].str.replace('Light Drizzle / Windy', 'Rain')\n",
        "missingclimate['Weather'] = missingclimate['Weather'].str.replace('Light Rain / Windy', 'Rain')\n",
        "missingclimate['Weather'] = missingclimate['Weather'].str.replace('Patches of Fog', 'Rain')\n",
        "missingclimate['Weather'] = missingclimate['Weather'].str.replace('Shallow Fog', 'Rain')\n",
        "missingclimate['Weather'] = missingclimate['Weather'].str.replace('Rain / Windy', 'Rain')\n",
        "missingclimate['Weather'] = missingclimate['Weather'].str.replace('Thunder / Windy', 'Thunder')\n",
        "missingclimate['Weather'] = missingclimate['Weather'].str.replace('Partly Cloudy', 'Partly cloudy')"
      ],
      "execution_count": null,
      "outputs": []
    },
    {
      "cell_type": "code",
      "metadata": {
        "id": "rb3CTD-8eq2K"
      },
      "source": [
        "missingclimate['Temp']=missingclimate['Temp'].astype('int')"
      ],
      "execution_count": null,
      "outputs": []
    },
    {
      "cell_type": "code",
      "metadata": {
        "id": "Y6IyJraMewhH"
      },
      "source": [
        "missingclimate['Wind']=missingclimate['Wind']*1.60934"
      ],
      "execution_count": null,
      "outputs": []
    },
    {
      "cell_type": "code",
      "metadata": {
        "id": "3ppei9vihj-e"
      },
      "source": [
        "missingclimate['Pressure']=missingclimate['Pressure']*33.8637526"
      ],
      "execution_count": null,
      "outputs": []
    },
    {
      "cell_type": "code",
      "metadata": {
        "id": "aPdQIrHSZwkJ",
        "colab": {
          "base_uri": "https://localhost:8080/",
          "height": 202
        },
        "outputId": "b7488bf4-2c6e-4c61-f1c1-23426b78d75a"
      },
      "source": [
        "missingclimate.head()"
      ],
      "execution_count": null,
      "outputs": [
        {
          "output_type": "execute_result",
          "data": {
            "text/html": [
              "<div>\n",
              "<style scoped>\n",
              "    .dataframe tbody tr th:only-of-type {\n",
              "        vertical-align: middle;\n",
              "    }\n",
              "\n",
              "    .dataframe tbody tr th {\n",
              "        vertical-align: top;\n",
              "    }\n",
              "\n",
              "    .dataframe thead th {\n",
              "        text-align: right;\n",
              "    }\n",
              "</style>\n",
              "<table border=\"1\" class=\"dataframe\">\n",
              "  <thead>\n",
              "    <tr style=\"text-align: right;\">\n",
              "      <th></th>\n",
              "      <th>Unnamed: 0</th>\n",
              "      <th>Time</th>\n",
              "      <th>Temp</th>\n",
              "      <th>Wind</th>\n",
              "      <th>Humidity</th>\n",
              "      <th>Pressure</th>\n",
              "      <th>Weather</th>\n",
              "      <th>Date</th>\n",
              "    </tr>\n",
              "  </thead>\n",
              "  <tbody>\n",
              "    <tr>\n",
              "      <th>0</th>\n",
              "      <td>1</td>\n",
              "      <td>12:53 AM</td>\n",
              "      <td>26</td>\n",
              "      <td>16.09340</td>\n",
              "      <td>88</td>\n",
              "      <td>993.562501</td>\n",
              "      <td>Cloudy</td>\n",
              "      <td>2018-06-18</td>\n",
              "    </tr>\n",
              "    <tr>\n",
              "      <th>1</th>\n",
              "      <td>2</td>\n",
              "      <td>1:43 AM</td>\n",
              "      <td>26</td>\n",
              "      <td>14.48406</td>\n",
              "      <td>84</td>\n",
              "      <td>993.562501</td>\n",
              "      <td>Cloudy</td>\n",
              "      <td>2018-06-18</td>\n",
              "    </tr>\n",
              "    <tr>\n",
              "      <th>2</th>\n",
              "      <td>3</td>\n",
              "      <td>1:53 AM</td>\n",
              "      <td>25</td>\n",
              "      <td>14.48406</td>\n",
              "      <td>87</td>\n",
              "      <td>993.562501</td>\n",
              "      <td>Cloudy</td>\n",
              "      <td>2018-06-18</td>\n",
              "    </tr>\n",
              "    <tr>\n",
              "      <th>3</th>\n",
              "      <td>4</td>\n",
              "      <td>2:13 AM</td>\n",
              "      <td>25</td>\n",
              "      <td>8.04670</td>\n",
              "      <td>87</td>\n",
              "      <td>993.562501</td>\n",
              "      <td>Cloudy</td>\n",
              "      <td>2018-06-18</td>\n",
              "    </tr>\n",
              "    <tr>\n",
              "      <th>4</th>\n",
              "      <td>5</td>\n",
              "      <td>2:53 AM</td>\n",
              "      <td>24</td>\n",
              "      <td>11.26538</td>\n",
              "      <td>90</td>\n",
              "      <td>993.223864</td>\n",
              "      <td>Cloudy</td>\n",
              "      <td>2018-06-18</td>\n",
              "    </tr>\n",
              "  </tbody>\n",
              "</table>\n",
              "</div>"
            ],
            "text/plain": [
              "   Unnamed: 0      Time  Temp  ...    Pressure  Weather        Date\n",
              "0           1  12:53 AM    26  ...  993.562501   Cloudy  2018-06-18\n",
              "1           2   1:43 AM    26  ...  993.562501   Cloudy  2018-06-18\n",
              "2           3   1:53 AM    25  ...  993.562501   Cloudy  2018-06-18\n",
              "3           4   2:13 AM    25  ...  993.562501   Cloudy  2018-06-18\n",
              "4           5   2:53 AM    24  ...  993.223864   Cloudy  2018-06-18\n",
              "\n",
              "[5 rows x 8 columns]"
            ]
          },
          "metadata": {
            "tags": []
          },
          "execution_count": 58
        }
      ]
    },
    {
      "cell_type": "code",
      "metadata": {
        "id": "iA1MVwQ8i9P6"
      },
      "source": [
        "import datetime\n",
        "Time = [datetime.datetime.strptime(x, '%I:%M %p') for x in missingclimate['Time']]\n",
        "missingclimate['Time'] = [x.strftime(\"%H\") for x in Time]\n",
        "#[datetime.strptime(x, '%I:%M %p') for x in missingclimate['Time']].strftime(\"%H:%M\")"
      ],
      "execution_count": null,
      "outputs": []
    },
    {
      "cell_type": "code",
      "metadata": {
        "id": "wmapHtZFk9v-"
      },
      "source": [
        "missingclimate = missingclimate.groupby(by=['Date','Time'], as_index=False).last()"
      ],
      "execution_count": null,
      "outputs": []
    },
    {
      "cell_type": "code",
      "metadata": {
        "id": "6wAdAo-hsMDB"
      },
      "source": [
        "missingclimate['Wind']=missingclimate['Wind'].astype('int')\n",
        "missingclimate['Pressure']=missingclimate['Pressure'].astype('int')"
      ],
      "execution_count": null,
      "outputs": []
    },
    {
      "cell_type": "code",
      "metadata": {
        "id": "4I2W9waURcpB",
        "colab": {
          "base_uri": "https://localhost:8080/",
          "height": 202
        },
        "outputId": "5f2ef6d3-5b33-4faf-9fe6-0977c8d931b9"
      },
      "source": [
        "missingclimate = missingclimate.drop(missingclimate.columns[2], axis=1)\n",
        "missingclimate = missingclimate.rename(columns={'Time': 'Hour'})\n",
        "missingclimate.head()\n",
        "#missingclimate[missingclimate['Date'] == '2019-03-09']"
      ],
      "execution_count": null,
      "outputs": [
        {
          "output_type": "execute_result",
          "data": {
            "text/html": [
              "<div>\n",
              "<style scoped>\n",
              "    .dataframe tbody tr th:only-of-type {\n",
              "        vertical-align: middle;\n",
              "    }\n",
              "\n",
              "    .dataframe tbody tr th {\n",
              "        vertical-align: top;\n",
              "    }\n",
              "\n",
              "    .dataframe thead th {\n",
              "        text-align: right;\n",
              "    }\n",
              "</style>\n",
              "<table border=\"1\" class=\"dataframe\">\n",
              "  <thead>\n",
              "    <tr style=\"text-align: right;\">\n",
              "      <th></th>\n",
              "      <th>Date</th>\n",
              "      <th>Hour</th>\n",
              "      <th>Temp</th>\n",
              "      <th>Wind</th>\n",
              "      <th>Humidity</th>\n",
              "      <th>Pressure</th>\n",
              "      <th>Weather</th>\n",
              "    </tr>\n",
              "  </thead>\n",
              "  <tbody>\n",
              "    <tr>\n",
              "      <th>0</th>\n",
              "      <td>2018-06-18</td>\n",
              "      <td>00</td>\n",
              "      <td>26</td>\n",
              "      <td>16</td>\n",
              "      <td>88</td>\n",
              "      <td>993</td>\n",
              "      <td>Cloudy</td>\n",
              "    </tr>\n",
              "    <tr>\n",
              "      <th>1</th>\n",
              "      <td>2018-06-18</td>\n",
              "      <td>01</td>\n",
              "      <td>25</td>\n",
              "      <td>14</td>\n",
              "      <td>87</td>\n",
              "      <td>993</td>\n",
              "      <td>Cloudy</td>\n",
              "    </tr>\n",
              "    <tr>\n",
              "      <th>2</th>\n",
              "      <td>2018-06-18</td>\n",
              "      <td>02</td>\n",
              "      <td>24</td>\n",
              "      <td>11</td>\n",
              "      <td>90</td>\n",
              "      <td>993</td>\n",
              "      <td>Cloudy</td>\n",
              "    </tr>\n",
              "    <tr>\n",
              "      <th>3</th>\n",
              "      <td>2018-06-18</td>\n",
              "      <td>03</td>\n",
              "      <td>24</td>\n",
              "      <td>8</td>\n",
              "      <td>97</td>\n",
              "      <td>992</td>\n",
              "      <td>Rain</td>\n",
              "    </tr>\n",
              "    <tr>\n",
              "      <th>4</th>\n",
              "      <td>2018-06-18</td>\n",
              "      <td>04</td>\n",
              "      <td>23</td>\n",
              "      <td>0</td>\n",
              "      <td>100</td>\n",
              "      <td>992</td>\n",
              "      <td>Cloudy</td>\n",
              "    </tr>\n",
              "  </tbody>\n",
              "</table>\n",
              "</div>"
            ],
            "text/plain": [
              "         Date Hour  Temp  Wind  Humidity  Pressure Weather\n",
              "0  2018-06-18   00    26    16        88       993  Cloudy\n",
              "1  2018-06-18   01    25    14        87       993  Cloudy\n",
              "2  2018-06-18   02    24    11        90       993  Cloudy\n",
              "3  2018-06-18   03    24     8        97       992    Rain\n",
              "4  2018-06-18   04    23     0       100       992  Cloudy"
            ]
          },
          "metadata": {
            "tags": []
          },
          "execution_count": 62
        }
      ]
    },
    {
      "cell_type": "code",
      "metadata": {
        "id": "eaYn7SzUSAez"
      },
      "source": [
        "Climate_data = pd.concat([Climate_data, missingclimate])\n",
        "#Climate_data.shape"
      ],
      "execution_count": null,
      "outputs": []
    },
    {
      "cell_type": "code",
      "metadata": {
        "id": "h01tw-NbUQ__"
      },
      "source": [
        "Climate_data[\"Date\"] =  pd.to_datetime(Climate_data['Date'], format='%Y-%m-%d')\n",
        "Climate_data = Climate_data.groupby(by=['Date','Hour'], as_index=False).last()"
      ],
      "execution_count": null,
      "outputs": []
    },
    {
      "cell_type": "code",
      "metadata": {
        "id": "iZc8yvSvUcG6",
        "colab": {
          "base_uri": "https://localhost:8080/",
          "height": 785
        },
        "outputId": "c159f385-7fac-47d0-c1fa-a73eb16b8cbc"
      },
      "source": [
        "Climate_data[Climate_data['Date'] == '2019-09-03']"
      ],
      "execution_count": null,
      "outputs": [
        {
          "output_type": "execute_result",
          "data": {
            "text/html": [
              "<div>\n",
              "<style scoped>\n",
              "    .dataframe tbody tr th:only-of-type {\n",
              "        vertical-align: middle;\n",
              "    }\n",
              "\n",
              "    .dataframe tbody tr th {\n",
              "        vertical-align: top;\n",
              "    }\n",
              "\n",
              "    .dataframe thead th {\n",
              "        text-align: right;\n",
              "    }\n",
              "</style>\n",
              "<table border=\"1\" class=\"dataframe\">\n",
              "  <thead>\n",
              "    <tr style=\"text-align: right;\">\n",
              "      <th></th>\n",
              "      <th>Date</th>\n",
              "      <th>Hour</th>\n",
              "      <th>Temp</th>\n",
              "      <th>Rel_Temp</th>\n",
              "      <th>Wind</th>\n",
              "      <th>Humidity</th>\n",
              "      <th>Pressure</th>\n",
              "      <th>Weather</th>\n",
              "    </tr>\n",
              "  </thead>\n",
              "  <tbody>\n",
              "    <tr>\n",
              "      <th>21757</th>\n",
              "      <td>2019-09-03</td>\n",
              "      <td>00</td>\n",
              "      <td>23</td>\n",
              "      <td>NaN</td>\n",
              "      <td>0</td>\n",
              "      <td>69.0</td>\n",
              "      <td>995.0</td>\n",
              "      <td>Clear</td>\n",
              "    </tr>\n",
              "    <tr>\n",
              "      <th>21758</th>\n",
              "      <td>2019-09-03</td>\n",
              "      <td>01</td>\n",
              "      <td>22</td>\n",
              "      <td>NaN</td>\n",
              "      <td>4</td>\n",
              "      <td>79.0</td>\n",
              "      <td>995.0</td>\n",
              "      <td>Clear</td>\n",
              "    </tr>\n",
              "    <tr>\n",
              "      <th>21759</th>\n",
              "      <td>2019-09-03</td>\n",
              "      <td>02</td>\n",
              "      <td>21</td>\n",
              "      <td>NaN</td>\n",
              "      <td>0</td>\n",
              "      <td>81.0</td>\n",
              "      <td>994.0</td>\n",
              "      <td>Clear</td>\n",
              "    </tr>\n",
              "    <tr>\n",
              "      <th>21760</th>\n",
              "      <td>2019-09-03</td>\n",
              "      <td>03</td>\n",
              "      <td>21</td>\n",
              "      <td>NaN</td>\n",
              "      <td>4</td>\n",
              "      <td>84.0</td>\n",
              "      <td>994.0</td>\n",
              "      <td>Clear</td>\n",
              "    </tr>\n",
              "    <tr>\n",
              "      <th>21761</th>\n",
              "      <td>2019-09-03</td>\n",
              "      <td>04</td>\n",
              "      <td>21</td>\n",
              "      <td>NaN</td>\n",
              "      <td>0</td>\n",
              "      <td>81.0</td>\n",
              "      <td>995.0</td>\n",
              "      <td>Clear</td>\n",
              "    </tr>\n",
              "    <tr>\n",
              "      <th>21762</th>\n",
              "      <td>2019-09-03</td>\n",
              "      <td>05</td>\n",
              "      <td>20</td>\n",
              "      <td>NaN</td>\n",
              "      <td>0</td>\n",
              "      <td>87.0</td>\n",
              "      <td>995.0</td>\n",
              "      <td>Clear</td>\n",
              "    </tr>\n",
              "    <tr>\n",
              "      <th>21763</th>\n",
              "      <td>2019-09-03</td>\n",
              "      <td>06</td>\n",
              "      <td>20</td>\n",
              "      <td>NaN</td>\n",
              "      <td>0</td>\n",
              "      <td>87.0</td>\n",
              "      <td>995.0</td>\n",
              "      <td>Clear</td>\n",
              "    </tr>\n",
              "    <tr>\n",
              "      <th>21764</th>\n",
              "      <td>2019-09-03</td>\n",
              "      <td>07</td>\n",
              "      <td>22</td>\n",
              "      <td>NaN</td>\n",
              "      <td>0</td>\n",
              "      <td>81.0</td>\n",
              "      <td>996.0</td>\n",
              "      <td>Partly cloudy</td>\n",
              "    </tr>\n",
              "    <tr>\n",
              "      <th>21765</th>\n",
              "      <td>2019-09-03</td>\n",
              "      <td>08</td>\n",
              "      <td>28</td>\n",
              "      <td>NaN</td>\n",
              "      <td>0</td>\n",
              "      <td>60.0</td>\n",
              "      <td>996.0</td>\n",
              "      <td>Partly cloudy</td>\n",
              "    </tr>\n",
              "    <tr>\n",
              "      <th>21766</th>\n",
              "      <td>2019-09-03</td>\n",
              "      <td>09</td>\n",
              "      <td>31</td>\n",
              "      <td>NaN</td>\n",
              "      <td>12</td>\n",
              "      <td>51.0</td>\n",
              "      <td>996.0</td>\n",
              "      <td>Partly cloudy</td>\n",
              "    </tr>\n",
              "    <tr>\n",
              "      <th>21767</th>\n",
              "      <td>2019-09-03</td>\n",
              "      <td>10</td>\n",
              "      <td>33</td>\n",
              "      <td>NaN</td>\n",
              "      <td>11</td>\n",
              "      <td>45.0</td>\n",
              "      <td>996.0</td>\n",
              "      <td>Partly cloudy</td>\n",
              "    </tr>\n",
              "    <tr>\n",
              "      <th>21768</th>\n",
              "      <td>2019-09-03</td>\n",
              "      <td>11</td>\n",
              "      <td>33</td>\n",
              "      <td>NaN</td>\n",
              "      <td>9</td>\n",
              "      <td>42.0</td>\n",
              "      <td>995.0</td>\n",
              "      <td>Cloudy</td>\n",
              "    </tr>\n",
              "    <tr>\n",
              "      <th>21769</th>\n",
              "      <td>2019-09-03</td>\n",
              "      <td>12</td>\n",
              "      <td>35</td>\n",
              "      <td>NaN</td>\n",
              "      <td>14</td>\n",
              "      <td>37.0</td>\n",
              "      <td>994.0</td>\n",
              "      <td>Partly cloudy</td>\n",
              "    </tr>\n",
              "    <tr>\n",
              "      <th>21770</th>\n",
              "      <td>2019-09-03</td>\n",
              "      <td>13</td>\n",
              "      <td>35</td>\n",
              "      <td>NaN</td>\n",
              "      <td>19</td>\n",
              "      <td>36.0</td>\n",
              "      <td>994.0</td>\n",
              "      <td>Partly cloudy</td>\n",
              "    </tr>\n",
              "    <tr>\n",
              "      <th>21771</th>\n",
              "      <td>2019-09-03</td>\n",
              "      <td>14</td>\n",
              "      <td>36</td>\n",
              "      <td>NaN</td>\n",
              "      <td>8</td>\n",
              "      <td>34.0</td>\n",
              "      <td>993.0</td>\n",
              "      <td>Partly cloudy</td>\n",
              "    </tr>\n",
              "    <tr>\n",
              "      <th>21772</th>\n",
              "      <td>2019-09-03</td>\n",
              "      <td>15</td>\n",
              "      <td>37</td>\n",
              "      <td>NaN</td>\n",
              "      <td>22</td>\n",
              "      <td>30.0</td>\n",
              "      <td>992.0</td>\n",
              "      <td>Partly cloudy</td>\n",
              "    </tr>\n",
              "    <tr>\n",
              "      <th>21773</th>\n",
              "      <td>2019-09-03</td>\n",
              "      <td>16</td>\n",
              "      <td>37</td>\n",
              "      <td>NaN</td>\n",
              "      <td>22</td>\n",
              "      <td>30.0</td>\n",
              "      <td>992.0</td>\n",
              "      <td>Partly cloudy</td>\n",
              "    </tr>\n",
              "    <tr>\n",
              "      <th>21774</th>\n",
              "      <td>2019-09-03</td>\n",
              "      <td>17</td>\n",
              "      <td>36</td>\n",
              "      <td>NaN</td>\n",
              "      <td>22</td>\n",
              "      <td>31.0</td>\n",
              "      <td>992.0</td>\n",
              "      <td>Cloudy</td>\n",
              "    </tr>\n",
              "    <tr>\n",
              "      <th>21775</th>\n",
              "      <td>2019-09-03</td>\n",
              "      <td>18</td>\n",
              "      <td>36</td>\n",
              "      <td>NaN</td>\n",
              "      <td>22</td>\n",
              "      <td>32.0</td>\n",
              "      <td>992.0</td>\n",
              "      <td>Cloudy</td>\n",
              "    </tr>\n",
              "    <tr>\n",
              "      <th>21776</th>\n",
              "      <td>2019-09-03</td>\n",
              "      <td>19</td>\n",
              "      <td>33</td>\n",
              "      <td>NaN</td>\n",
              "      <td>12</td>\n",
              "      <td>36.0</td>\n",
              "      <td>992.0</td>\n",
              "      <td>Cloudy</td>\n",
              "    </tr>\n",
              "    <tr>\n",
              "      <th>21777</th>\n",
              "      <td>2019-09-03</td>\n",
              "      <td>20</td>\n",
              "      <td>31</td>\n",
              "      <td>NaN</td>\n",
              "      <td>9</td>\n",
              "      <td>43.0</td>\n",
              "      <td>993.0</td>\n",
              "      <td>Partly cloudy</td>\n",
              "    </tr>\n",
              "    <tr>\n",
              "      <th>21778</th>\n",
              "      <td>2019-09-03</td>\n",
              "      <td>21</td>\n",
              "      <td>27</td>\n",
              "      <td>NaN</td>\n",
              "      <td>4</td>\n",
              "      <td>58.0</td>\n",
              "      <td>993.0</td>\n",
              "      <td>Clear</td>\n",
              "    </tr>\n",
              "    <tr>\n",
              "      <th>21779</th>\n",
              "      <td>2019-09-03</td>\n",
              "      <td>22</td>\n",
              "      <td>28</td>\n",
              "      <td>NaN</td>\n",
              "      <td>4</td>\n",
              "      <td>53.0</td>\n",
              "      <td>994.0</td>\n",
              "      <td>Clear</td>\n",
              "    </tr>\n",
              "    <tr>\n",
              "      <th>21780</th>\n",
              "      <td>2019-09-03</td>\n",
              "      <td>23</td>\n",
              "      <td>24</td>\n",
              "      <td>NaN</td>\n",
              "      <td>0</td>\n",
              "      <td>71.0</td>\n",
              "      <td>995.0</td>\n",
              "      <td>Clear</td>\n",
              "    </tr>\n",
              "  </tbody>\n",
              "</table>\n",
              "</div>"
            ],
            "text/plain": [
              "            Date Hour  Temp  Rel_Temp  Wind  Humidity  Pressure        Weather\n",
              "21757 2019-09-03   00    23       NaN     0      69.0     995.0          Clear\n",
              "21758 2019-09-03   01    22       NaN     4      79.0     995.0          Clear\n",
              "21759 2019-09-03   02    21       NaN     0      81.0     994.0          Clear\n",
              "21760 2019-09-03   03    21       NaN     4      84.0     994.0          Clear\n",
              "21761 2019-09-03   04    21       NaN     0      81.0     995.0          Clear\n",
              "21762 2019-09-03   05    20       NaN     0      87.0     995.0          Clear\n",
              "21763 2019-09-03   06    20       NaN     0      87.0     995.0          Clear\n",
              "21764 2019-09-03   07    22       NaN     0      81.0     996.0  Partly cloudy\n",
              "21765 2019-09-03   08    28       NaN     0      60.0     996.0  Partly cloudy\n",
              "21766 2019-09-03   09    31       NaN    12      51.0     996.0  Partly cloudy\n",
              "21767 2019-09-03   10    33       NaN    11      45.0     996.0  Partly cloudy\n",
              "21768 2019-09-03   11    33       NaN     9      42.0     995.0         Cloudy\n",
              "21769 2019-09-03   12    35       NaN    14      37.0     994.0  Partly cloudy\n",
              "21770 2019-09-03   13    35       NaN    19      36.0     994.0  Partly cloudy\n",
              "21771 2019-09-03   14    36       NaN     8      34.0     993.0  Partly cloudy\n",
              "21772 2019-09-03   15    37       NaN    22      30.0     992.0  Partly cloudy\n",
              "21773 2019-09-03   16    37       NaN    22      30.0     992.0  Partly cloudy\n",
              "21774 2019-09-03   17    36       NaN    22      31.0     992.0         Cloudy\n",
              "21775 2019-09-03   18    36       NaN    22      32.0     992.0         Cloudy\n",
              "21776 2019-09-03   19    33       NaN    12      36.0     992.0         Cloudy\n",
              "21777 2019-09-03   20    31       NaN     9      43.0     993.0  Partly cloudy\n",
              "21778 2019-09-03   21    27       NaN     4      58.0     993.0          Clear\n",
              "21779 2019-09-03   22    28       NaN     4      53.0     994.0          Clear\n",
              "21780 2019-09-03   23    24       NaN     0      71.0     995.0          Clear"
            ]
          },
          "metadata": {
            "tags": []
          },
          "execution_count": 65
        }
      ]
    },
    {
      "cell_type": "code",
      "metadata": {
        "id": "rjjY5aNeZVQ5"
      },
      "source": [
        "Climate_data['Hour'] = Climate_data['Hour'].astype('int')"
      ],
      "execution_count": null,
      "outputs": []
    },
    {
      "cell_type": "code",
      "metadata": {
        "id": "at82mRRWZu-Z",
        "colab": {
          "base_uri": "https://localhost:8080/",
          "height": 173
        },
        "outputId": "6c58bab3-4401-42e4-ea8d-1d4f0251f1dd"
      },
      "source": [
        "Tripcount_data.dtypes\n",
        "Climate_data.dtypes"
      ],
      "execution_count": null,
      "outputs": [
        {
          "output_type": "execute_result",
          "data": {
            "text/plain": [
              "Date        datetime64[ns]\n",
              "Hour                 int64\n",
              "Temp                 int64\n",
              "Rel_Temp           float64\n",
              "Wind                 int64\n",
              "Humidity           float64\n",
              "Pressure           float64\n",
              "Weather             object\n",
              "dtype: object"
            ]
          },
          "metadata": {
            "tags": []
          },
          "execution_count": 67
        }
      ]
    },
    {
      "cell_type": "code",
      "metadata": {
        "id": "VFAu0KzCv4uN",
        "colab": {
          "base_uri": "https://localhost:8080/",
          "height": 309
        },
        "outputId": "b28e721d-e72f-4aa6-85a7-84b1ceccee01"
      },
      "source": [
        "Trip_Climate = pd.merge(Tripcount_data, Climate_data, how='left', on=['Date', 'Hour'])\n",
        "Trip_Climate.head()"
      ],
      "execution_count": null,
      "outputs": [
        {
          "output_type": "execute_result",
          "data": {
            "text/html": [
              "<div>\n",
              "<style scoped>\n",
              "    .dataframe tbody tr th:only-of-type {\n",
              "        vertical-align: middle;\n",
              "    }\n",
              "\n",
              "    .dataframe tbody tr th {\n",
              "        vertical-align: top;\n",
              "    }\n",
              "\n",
              "    .dataframe thead th {\n",
              "        text-align: right;\n",
              "    }\n",
              "</style>\n",
              "<table border=\"1\" class=\"dataframe\">\n",
              "  <thead>\n",
              "    <tr style=\"text-align: right;\">\n",
              "      <th></th>\n",
              "      <th>Date</th>\n",
              "      <th>Month</th>\n",
              "      <th>Hour</th>\n",
              "      <th>Day_of_Week</th>\n",
              "      <th>Year</th>\n",
              "      <th>Vehicle_Type</th>\n",
              "      <th>Count</th>\n",
              "      <th>Temp</th>\n",
              "      <th>Rel_Temp</th>\n",
              "      <th>Wind</th>\n",
              "      <th>Humidity</th>\n",
              "      <th>Pressure</th>\n",
              "      <th>Weather</th>\n",
              "    </tr>\n",
              "  </thead>\n",
              "  <tbody>\n",
              "    <tr>\n",
              "      <th>0</th>\n",
              "      <td>2019-09-07</td>\n",
              "      <td>9</td>\n",
              "      <td>16</td>\n",
              "      <td>6</td>\n",
              "      <td>2019</td>\n",
              "      <td>scooter</td>\n",
              "      <td>4784</td>\n",
              "      <td>36.0</td>\n",
              "      <td>NaN</td>\n",
              "      <td>16.0</td>\n",
              "      <td>30.0</td>\n",
              "      <td>993.0</td>\n",
              "      <td>Clear</td>\n",
              "    </tr>\n",
              "    <tr>\n",
              "      <th>1</th>\n",
              "      <td>2019-03-16</td>\n",
              "      <td>3</td>\n",
              "      <td>17</td>\n",
              "      <td>6</td>\n",
              "      <td>2019</td>\n",
              "      <td>scooter</td>\n",
              "      <td>4736</td>\n",
              "      <td>16.0</td>\n",
              "      <td>16.0</td>\n",
              "      <td>0.0</td>\n",
              "      <td>22.0</td>\n",
              "      <td>1026.0</td>\n",
              "      <td>Cloudy</td>\n",
              "    </tr>\n",
              "    <tr>\n",
              "      <th>2</th>\n",
              "      <td>2019-03-16</td>\n",
              "      <td>3</td>\n",
              "      <td>17</td>\n",
              "      <td>6</td>\n",
              "      <td>2019</td>\n",
              "      <td>scooter</td>\n",
              "      <td>4736</td>\n",
              "      <td>15.0</td>\n",
              "      <td>NaN</td>\n",
              "      <td>9.0</td>\n",
              "      <td>30.0</td>\n",
              "      <td>1006.0</td>\n",
              "      <td>Cloudy</td>\n",
              "    </tr>\n",
              "    <tr>\n",
              "      <th>3</th>\n",
              "      <td>2019-03-09</td>\n",
              "      <td>3</td>\n",
              "      <td>16</td>\n",
              "      <td>6</td>\n",
              "      <td>2019</td>\n",
              "      <td>scooter</td>\n",
              "      <td>4617</td>\n",
              "      <td>28.0</td>\n",
              "      <td>NaN</td>\n",
              "      <td>11.0</td>\n",
              "      <td>19.0</td>\n",
              "      <td>988.0</td>\n",
              "      <td>Cloudy</td>\n",
              "    </tr>\n",
              "    <tr>\n",
              "      <th>4</th>\n",
              "      <td>2019-03-09</td>\n",
              "      <td>3</td>\n",
              "      <td>18</td>\n",
              "      <td>6</td>\n",
              "      <td>2019</td>\n",
              "      <td>scooter</td>\n",
              "      <td>4599</td>\n",
              "      <td>24.0</td>\n",
              "      <td>NaN</td>\n",
              "      <td>11.0</td>\n",
              "      <td>27.0</td>\n",
              "      <td>989.0</td>\n",
              "      <td>Cloudy</td>\n",
              "    </tr>\n",
              "  </tbody>\n",
              "</table>\n",
              "</div>"
            ],
            "text/plain": [
              "        Date  Month  Hour  Day_of_Week  ...  Wind Humidity  Pressure  Weather\n",
              "0 2019-09-07      9    16            6  ...  16.0     30.0     993.0    Clear\n",
              "1 2019-03-16      3    17            6  ...   0.0     22.0    1026.0   Cloudy\n",
              "2 2019-03-16      3    17            6  ...   9.0     30.0    1006.0   Cloudy\n",
              "3 2019-03-09      3    16            6  ...  11.0     19.0     988.0   Cloudy\n",
              "4 2019-03-09      3    18            6  ...  11.0     27.0     989.0   Cloudy\n",
              "\n",
              "[5 rows x 13 columns]"
            ]
          },
          "metadata": {
            "tags": []
          },
          "execution_count": 68
        }
      ]
    },
    {
      "cell_type": "code",
      "metadata": {
        "id": "E_nkjo5nw99l"
      },
      "source": [
        "Trip_Climate.loc[Trip_Climate['Day_of_Week'] > 5, 'Weekday'] = 0\n",
        "Trip_Climate.loc[Trip_Climate['Day_of_Week'] < 6, 'Weekday'] = 1"
      ],
      "execution_count": null,
      "outputs": []
    },
    {
      "cell_type": "code",
      "metadata": {
        "id": "R4w5eEb11meE"
      },
      "source": [
        "Trip_Climate.loc[Trip_Climate['Month'] < 3, 'Season'] = 1 #'Winter'\n",
        "Trip_Climate.loc[Trip_Climate['Month'] > 2, 'Season'] = 2 #'Spring'\n",
        "Trip_Climate.loc[Trip_Climate['Month'] > 5, 'Season'] = 3 #'Summer'\n",
        "Trip_Climate.loc[Trip_Climate['Month'] > 8, 'Season'] = 4 #'Fall'\n",
        "Trip_Climate.loc[Trip_Climate['Month'] > 11, 'Season'] = 1 #'Winter'"
      ],
      "execution_count": null,
      "outputs": []
    },
    {
      "cell_type": "code",
      "metadata": {
        "id": "hiSUWXRylybj"
      },
      "source": [
        "holidays= pd.read_csv('/content/gdrive/My Drive/Company Project/US_holidays.csv')"
      ],
      "execution_count": null,
      "outputs": []
    },
    {
      "cell_type": "code",
      "metadata": {
        "id": "J3O-8TX0mX6b"
      },
      "source": [
        "holidays['Date'] = pd.to_datetime(holidays['Date'], format='%d-%m-%Y')"
      ],
      "execution_count": null,
      "outputs": []
    },
    {
      "cell_type": "code",
      "metadata": {
        "id": "x01adh2ZmMwa"
      },
      "source": [
        "Fulldata = pd.merge(Trip_Climate, holidays, how='left', on=['Date'])"
      ],
      "execution_count": null,
      "outputs": []
    },
    {
      "cell_type": "code",
      "metadata": {
        "id": "ySGKKnRGtwWj"
      },
      "source": [
        "Fulldata['Holiday'] = Fulldata['Holiday'].fillna(0)"
      ],
      "execution_count": null,
      "outputs": []
    },
    {
      "cell_type": "code",
      "metadata": {
        "id": "kPHWiIx_uTZB"
      },
      "source": [
        "#Fulldata.to_csv('/content/gdrive/My Drive/Company Project/Final.csv', index = None, header=True)"
      ],
      "execution_count": null,
      "outputs": []
    },
    {
      "cell_type": "code",
      "metadata": {
        "id": "EZASc1b8aDTd",
        "colab": {
          "base_uri": "https://localhost:8080/",
          "height": 1000
        },
        "outputId": "80e33e06-0f9a-451b-c772-fdab37c0e012"
      },
      "source": [
        "Fulldata.head(20)"
      ],
      "execution_count": null,
      "outputs": [
        {
          "output_type": "execute_result",
          "data": {
            "text/html": [
              "<div>\n",
              "<style scoped>\n",
              "    .dataframe tbody tr th:only-of-type {\n",
              "        vertical-align: middle;\n",
              "    }\n",
              "\n",
              "    .dataframe tbody tr th {\n",
              "        vertical-align: top;\n",
              "    }\n",
              "\n",
              "    .dataframe thead th {\n",
              "        text-align: right;\n",
              "    }\n",
              "</style>\n",
              "<table border=\"1\" class=\"dataframe\">\n",
              "  <thead>\n",
              "    <tr style=\"text-align: right;\">\n",
              "      <th></th>\n",
              "      <th>Date</th>\n",
              "      <th>Month</th>\n",
              "      <th>Hour</th>\n",
              "      <th>Day_of_Week</th>\n",
              "      <th>Year</th>\n",
              "      <th>Vehicle_Type</th>\n",
              "      <th>Count</th>\n",
              "      <th>Temp</th>\n",
              "      <th>Rel_Temp</th>\n",
              "      <th>Wind</th>\n",
              "      <th>Humidity</th>\n",
              "      <th>Pressure</th>\n",
              "      <th>Weather</th>\n",
              "      <th>Weekday</th>\n",
              "      <th>Season</th>\n",
              "      <th>Holiday</th>\n",
              "    </tr>\n",
              "  </thead>\n",
              "  <tbody>\n",
              "    <tr>\n",
              "      <th>0</th>\n",
              "      <td>2019-09-07</td>\n",
              "      <td>9</td>\n",
              "      <td>16</td>\n",
              "      <td>6</td>\n",
              "      <td>2019</td>\n",
              "      <td>scooter</td>\n",
              "      <td>4784</td>\n",
              "      <td>36.0</td>\n",
              "      <td>NaN</td>\n",
              "      <td>16.0</td>\n",
              "      <td>30.0</td>\n",
              "      <td>993.0</td>\n",
              "      <td>Clear</td>\n",
              "      <td>0.0</td>\n",
              "      <td>4.0</td>\n",
              "      <td>0.0</td>\n",
              "    </tr>\n",
              "    <tr>\n",
              "      <th>1</th>\n",
              "      <td>2019-03-16</td>\n",
              "      <td>3</td>\n",
              "      <td>17</td>\n",
              "      <td>6</td>\n",
              "      <td>2019</td>\n",
              "      <td>scooter</td>\n",
              "      <td>4736</td>\n",
              "      <td>16.0</td>\n",
              "      <td>16.0</td>\n",
              "      <td>0.0</td>\n",
              "      <td>22.0</td>\n",
              "      <td>1026.0</td>\n",
              "      <td>Cloudy</td>\n",
              "      <td>0.0</td>\n",
              "      <td>2.0</td>\n",
              "      <td>0.0</td>\n",
              "    </tr>\n",
              "    <tr>\n",
              "      <th>2</th>\n",
              "      <td>2019-03-16</td>\n",
              "      <td>3</td>\n",
              "      <td>17</td>\n",
              "      <td>6</td>\n",
              "      <td>2019</td>\n",
              "      <td>scooter</td>\n",
              "      <td>4736</td>\n",
              "      <td>15.0</td>\n",
              "      <td>NaN</td>\n",
              "      <td>9.0</td>\n",
              "      <td>30.0</td>\n",
              "      <td>1006.0</td>\n",
              "      <td>Cloudy</td>\n",
              "      <td>0.0</td>\n",
              "      <td>2.0</td>\n",
              "      <td>0.0</td>\n",
              "    </tr>\n",
              "    <tr>\n",
              "      <th>3</th>\n",
              "      <td>2019-03-09</td>\n",
              "      <td>3</td>\n",
              "      <td>16</td>\n",
              "      <td>6</td>\n",
              "      <td>2019</td>\n",
              "      <td>scooter</td>\n",
              "      <td>4617</td>\n",
              "      <td>28.0</td>\n",
              "      <td>NaN</td>\n",
              "      <td>11.0</td>\n",
              "      <td>19.0</td>\n",
              "      <td>988.0</td>\n",
              "      <td>Cloudy</td>\n",
              "      <td>0.0</td>\n",
              "      <td>2.0</td>\n",
              "      <td>0.0</td>\n",
              "    </tr>\n",
              "    <tr>\n",
              "      <th>4</th>\n",
              "      <td>2019-03-09</td>\n",
              "      <td>3</td>\n",
              "      <td>18</td>\n",
              "      <td>6</td>\n",
              "      <td>2019</td>\n",
              "      <td>scooter</td>\n",
              "      <td>4599</td>\n",
              "      <td>24.0</td>\n",
              "      <td>NaN</td>\n",
              "      <td>11.0</td>\n",
              "      <td>27.0</td>\n",
              "      <td>989.0</td>\n",
              "      <td>Cloudy</td>\n",
              "      <td>0.0</td>\n",
              "      <td>2.0</td>\n",
              "      <td>0.0</td>\n",
              "    </tr>\n",
              "    <tr>\n",
              "      <th>5</th>\n",
              "      <td>2019-03-09</td>\n",
              "      <td>3</td>\n",
              "      <td>15</td>\n",
              "      <td>6</td>\n",
              "      <td>2019</td>\n",
              "      <td>scooter</td>\n",
              "      <td>4576</td>\n",
              "      <td>29.0</td>\n",
              "      <td>NaN</td>\n",
              "      <td>12.0</td>\n",
              "      <td>19.0</td>\n",
              "      <td>989.0</td>\n",
              "      <td>Cloudy</td>\n",
              "      <td>0.0</td>\n",
              "      <td>2.0</td>\n",
              "      <td>0.0</td>\n",
              "    </tr>\n",
              "    <tr>\n",
              "      <th>6</th>\n",
              "      <td>2019-03-16</td>\n",
              "      <td>3</td>\n",
              "      <td>16</td>\n",
              "      <td>6</td>\n",
              "      <td>2019</td>\n",
              "      <td>scooter</td>\n",
              "      <td>4441</td>\n",
              "      <td>16.0</td>\n",
              "      <td>16.0</td>\n",
              "      <td>0.0</td>\n",
              "      <td>22.0</td>\n",
              "      <td>1026.0</td>\n",
              "      <td>Cloudy</td>\n",
              "      <td>0.0</td>\n",
              "      <td>2.0</td>\n",
              "      <td>0.0</td>\n",
              "    </tr>\n",
              "    <tr>\n",
              "      <th>7</th>\n",
              "      <td>2019-03-16</td>\n",
              "      <td>3</td>\n",
              "      <td>16</td>\n",
              "      <td>6</td>\n",
              "      <td>2019</td>\n",
              "      <td>scooter</td>\n",
              "      <td>4441</td>\n",
              "      <td>15.0</td>\n",
              "      <td>NaN</td>\n",
              "      <td>12.0</td>\n",
              "      <td>28.0</td>\n",
              "      <td>1006.0</td>\n",
              "      <td>Cloudy</td>\n",
              "      <td>0.0</td>\n",
              "      <td>2.0</td>\n",
              "      <td>0.0</td>\n",
              "    </tr>\n",
              "    <tr>\n",
              "      <th>8</th>\n",
              "      <td>2019-09-07</td>\n",
              "      <td>9</td>\n",
              "      <td>15</td>\n",
              "      <td>6</td>\n",
              "      <td>2019</td>\n",
              "      <td>scooter</td>\n",
              "      <td>4419</td>\n",
              "      <td>37.0</td>\n",
              "      <td>NaN</td>\n",
              "      <td>24.0</td>\n",
              "      <td>27.0</td>\n",
              "      <td>994.0</td>\n",
              "      <td>Clear</td>\n",
              "      <td>0.0</td>\n",
              "      <td>4.0</td>\n",
              "      <td>0.0</td>\n",
              "    </tr>\n",
              "    <tr>\n",
              "      <th>9</th>\n",
              "      <td>2019-03-10</td>\n",
              "      <td>3</td>\n",
              "      <td>16</td>\n",
              "      <td>0</td>\n",
              "      <td>2019</td>\n",
              "      <td>scooter</td>\n",
              "      <td>4407</td>\n",
              "      <td>26.0</td>\n",
              "      <td>NaN</td>\n",
              "      <td>22.0</td>\n",
              "      <td>66.0</td>\n",
              "      <td>994.0</td>\n",
              "      <td>Cloudy</td>\n",
              "      <td>1.0</td>\n",
              "      <td>2.0</td>\n",
              "      <td>0.0</td>\n",
              "    </tr>\n",
              "    <tr>\n",
              "      <th>10</th>\n",
              "      <td>2019-03-10</td>\n",
              "      <td>3</td>\n",
              "      <td>18</td>\n",
              "      <td>0</td>\n",
              "      <td>2019</td>\n",
              "      <td>scooter</td>\n",
              "      <td>4394</td>\n",
              "      <td>24.0</td>\n",
              "      <td>NaN</td>\n",
              "      <td>12.0</td>\n",
              "      <td>71.0</td>\n",
              "      <td>995.0</td>\n",
              "      <td>Cloudy</td>\n",
              "      <td>1.0</td>\n",
              "      <td>2.0</td>\n",
              "      <td>0.0</td>\n",
              "    </tr>\n",
              "    <tr>\n",
              "      <th>11</th>\n",
              "      <td>2019-03-15</td>\n",
              "      <td>3</td>\n",
              "      <td>17</td>\n",
              "      <td>5</td>\n",
              "      <td>2019</td>\n",
              "      <td>scooter</td>\n",
              "      <td>4390</td>\n",
              "      <td>14.0</td>\n",
              "      <td>14.0</td>\n",
              "      <td>11.0</td>\n",
              "      <td>25.0</td>\n",
              "      <td>1027.0</td>\n",
              "      <td>Partly cloudy</td>\n",
              "      <td>1.0</td>\n",
              "      <td>2.0</td>\n",
              "      <td>0.0</td>\n",
              "    </tr>\n",
              "    <tr>\n",
              "      <th>12</th>\n",
              "      <td>2019-03-15</td>\n",
              "      <td>3</td>\n",
              "      <td>17</td>\n",
              "      <td>5</td>\n",
              "      <td>2019</td>\n",
              "      <td>scooter</td>\n",
              "      <td>4390</td>\n",
              "      <td>14.0</td>\n",
              "      <td>NaN</td>\n",
              "      <td>27.0</td>\n",
              "      <td>28.0</td>\n",
              "      <td>1007.0</td>\n",
              "      <td>Cloudy</td>\n",
              "      <td>1.0</td>\n",
              "      <td>2.0</td>\n",
              "      <td>0.0</td>\n",
              "    </tr>\n",
              "    <tr>\n",
              "      <th>13</th>\n",
              "      <td>2019-03-14</td>\n",
              "      <td>3</td>\n",
              "      <td>17</td>\n",
              "      <td>4</td>\n",
              "      <td>2019</td>\n",
              "      <td>scooter</td>\n",
              "      <td>4388</td>\n",
              "      <td>23.0</td>\n",
              "      <td>22.0</td>\n",
              "      <td>19.0</td>\n",
              "      <td>20.0</td>\n",
              "      <td>1016.0</td>\n",
              "      <td>Clear</td>\n",
              "      <td>1.0</td>\n",
              "      <td>2.0</td>\n",
              "      <td>0.0</td>\n",
              "    </tr>\n",
              "    <tr>\n",
              "      <th>14</th>\n",
              "      <td>2019-03-14</td>\n",
              "      <td>3</td>\n",
              "      <td>17</td>\n",
              "      <td>4</td>\n",
              "      <td>2019</td>\n",
              "      <td>scooter</td>\n",
              "      <td>4388</td>\n",
              "      <td>22.0</td>\n",
              "      <td>NaN</td>\n",
              "      <td>19.0</td>\n",
              "      <td>28.0</td>\n",
              "      <td>996.0</td>\n",
              "      <td>Partly cloudy</td>\n",
              "      <td>1.0</td>\n",
              "      <td>2.0</td>\n",
              "      <td>0.0</td>\n",
              "    </tr>\n",
              "    <tr>\n",
              "      <th>15</th>\n",
              "      <td>2019-03-13</td>\n",
              "      <td>3</td>\n",
              "      <td>18</td>\n",
              "      <td>3</td>\n",
              "      <td>2019</td>\n",
              "      <td>scooter</td>\n",
              "      <td>4359</td>\n",
              "      <td>27.0</td>\n",
              "      <td>27.0</td>\n",
              "      <td>13.0</td>\n",
              "      <td>39.0</td>\n",
              "      <td>1001.0</td>\n",
              "      <td>Clear</td>\n",
              "      <td>1.0</td>\n",
              "      <td>2.0</td>\n",
              "      <td>0.0</td>\n",
              "    </tr>\n",
              "    <tr>\n",
              "      <th>16</th>\n",
              "      <td>2019-03-13</td>\n",
              "      <td>3</td>\n",
              "      <td>18</td>\n",
              "      <td>3</td>\n",
              "      <td>2019</td>\n",
              "      <td>scooter</td>\n",
              "      <td>4359</td>\n",
              "      <td>26.0</td>\n",
              "      <td>NaN</td>\n",
              "      <td>19.0</td>\n",
              "      <td>45.0</td>\n",
              "      <td>982.0</td>\n",
              "      <td>Clear</td>\n",
              "      <td>1.0</td>\n",
              "      <td>2.0</td>\n",
              "      <td>0.0</td>\n",
              "    </tr>\n",
              "    <tr>\n",
              "      <th>17</th>\n",
              "      <td>2019-03-09</td>\n",
              "      <td>3</td>\n",
              "      <td>17</td>\n",
              "      <td>6</td>\n",
              "      <td>2019</td>\n",
              "      <td>scooter</td>\n",
              "      <td>4339</td>\n",
              "      <td>27.0</td>\n",
              "      <td>NaN</td>\n",
              "      <td>16.0</td>\n",
              "      <td>17.0</td>\n",
              "      <td>989.0</td>\n",
              "      <td>Cloudy</td>\n",
              "      <td>0.0</td>\n",
              "      <td>2.0</td>\n",
              "      <td>0.0</td>\n",
              "    </tr>\n",
              "    <tr>\n",
              "      <th>18</th>\n",
              "      <td>2019-03-15</td>\n",
              "      <td>3</td>\n",
              "      <td>16</td>\n",
              "      <td>5</td>\n",
              "      <td>2019</td>\n",
              "      <td>scooter</td>\n",
              "      <td>4328</td>\n",
              "      <td>14.0</td>\n",
              "      <td>14.0</td>\n",
              "      <td>13.0</td>\n",
              "      <td>23.0</td>\n",
              "      <td>1027.0</td>\n",
              "      <td>Cloudy</td>\n",
              "      <td>1.0</td>\n",
              "      <td>2.0</td>\n",
              "      <td>0.0</td>\n",
              "    </tr>\n",
              "    <tr>\n",
              "      <th>19</th>\n",
              "      <td>2019-03-15</td>\n",
              "      <td>3</td>\n",
              "      <td>16</td>\n",
              "      <td>5</td>\n",
              "      <td>2019</td>\n",
              "      <td>scooter</td>\n",
              "      <td>4328</td>\n",
              "      <td>14.0</td>\n",
              "      <td>NaN</td>\n",
              "      <td>20.0</td>\n",
              "      <td>30.0</td>\n",
              "      <td>1007.0</td>\n",
              "      <td>Cloudy</td>\n",
              "      <td>1.0</td>\n",
              "      <td>2.0</td>\n",
              "      <td>0.0</td>\n",
              "    </tr>\n",
              "  </tbody>\n",
              "</table>\n",
              "</div>"
            ],
            "text/plain": [
              "         Date  Month  Hour  ...  Weekday  Season Holiday\n",
              "0  2019-09-07      9    16  ...      0.0     4.0     0.0\n",
              "1  2019-03-16      3    17  ...      0.0     2.0     0.0\n",
              "2  2019-03-16      3    17  ...      0.0     2.0     0.0\n",
              "3  2019-03-09      3    16  ...      0.0     2.0     0.0\n",
              "4  2019-03-09      3    18  ...      0.0     2.0     0.0\n",
              "5  2019-03-09      3    15  ...      0.0     2.0     0.0\n",
              "6  2019-03-16      3    16  ...      0.0     2.0     0.0\n",
              "7  2019-03-16      3    16  ...      0.0     2.0     0.0\n",
              "8  2019-09-07      9    15  ...      0.0     4.0     0.0\n",
              "9  2019-03-10      3    16  ...      1.0     2.0     0.0\n",
              "10 2019-03-10      3    18  ...      1.0     2.0     0.0\n",
              "11 2019-03-15      3    17  ...      1.0     2.0     0.0\n",
              "12 2019-03-15      3    17  ...      1.0     2.0     0.0\n",
              "13 2019-03-14      3    17  ...      1.0     2.0     0.0\n",
              "14 2019-03-14      3    17  ...      1.0     2.0     0.0\n",
              "15 2019-03-13      3    18  ...      1.0     2.0     0.0\n",
              "16 2019-03-13      3    18  ...      1.0     2.0     0.0\n",
              "17 2019-03-09      3    17  ...      0.0     2.0     0.0\n",
              "18 2019-03-15      3    16  ...      1.0     2.0     0.0\n",
              "19 2019-03-15      3    16  ...      1.0     2.0     0.0\n",
              "\n",
              "[20 rows x 16 columns]"
            ]
          },
          "metadata": {
            "tags": []
          },
          "execution_count": 76
        }
      ]
    },
    {
      "cell_type": "code",
      "metadata": {
        "id": "08iJnUs8ZISo",
        "colab": {
          "base_uri": "https://localhost:8080/",
          "height": 35
        },
        "outputId": "f949e375-fa7f-49c8-e166-f8076b373848"
      },
      "source": [
        "Trip_Climate1 = pd.merge(Trip_data, Climate_data, how='left', on=['Date', 'Hour'])\n",
        "Trip_Climate1.loc[Trip_Climate1['Day_of_Week'] > 5, 'Weekday'] = 0\n",
        "Trip_Climate1.loc[Trip_Climate1['Day_of_Week'] < 6, 'Weekday'] = 1\n",
        "Trip_Climate1.loc[Trip_Climate1['Month'] < 3, 'Season'] = 1 #'Winter'\n",
        "Trip_Climate1.loc[Trip_Climate1['Month'] > 2, 'Season'] = 2 #'Spring'\n",
        "Trip_Climate1.loc[Trip_Climate1['Month'] > 5, 'Season'] = 3 #'Summer'\n",
        "Trip_Climate1.loc[Trip_Climate1['Month'] > 8, 'Season'] = 4 #'Fall'\n",
        "Trip_Climate1.loc[Trip_Climate1['Month'] > 11, 'Season'] = 1 #'Winter'\n",
        "Fulldata1 = pd.merge(Trip_Climate1, holidays, how='left', on=['Date'])\n",
        "Fulldata1['Holiday'] = Fulldata1['Holiday'].fillna(0)\n",
        "Fulldata1.shape"
      ],
      "execution_count": null,
      "outputs": [
        {
          "output_type": "execute_result",
          "data": {
            "text/plain": [
              "(315692, 17)"
            ]
          },
          "metadata": {
            "tags": []
          },
          "execution_count": 97
        }
      ]
    },
    {
      "cell_type": "code",
      "metadata": {
        "id": "80Ty4YiFZu-A"
      },
      "source": [
        "Fulldata1.to_csv('/content/gdrive/My Drive/Company Project/Final1.csv', index = None, header=True)"
      ],
      "execution_count": null,
      "outputs": []
    },
    {
      "cell_type": "code",
      "metadata": {
        "id": "gwx_2nJoscLi",
        "colab": {
          "base_uri": "https://localhost:8080/",
          "height": 87
        },
        "outputId": "9cac21b3-334c-4831-d984-f31bb226a856"
      },
      "source": [
        "Fulldata1['Census_Tract_Start'].unique()"
      ],
      "execution_count": null,
      "outputs": [
        {
          "output_type": "execute_result",
          "data": {
            "text/plain": [
              "array(['48453001100', '48453000700', '48453000902', '48453001305',\n",
              "       '48453000601', '48453001303', '48453000603', '48453000401',\n",
              "       '48453000604', '48453001200', '48453001401', '48453000500',\n",
              "       '48453001000', '48453000306', '48453002304'], dtype=object)"
            ]
          },
          "metadata": {
            "tags": []
          },
          "execution_count": 98
        }
      ]
    },
    {
      "cell_type": "code",
      "metadata": {
        "id": "GViLZbjlWuYs"
      },
      "source": [
        "aqi2017= pd.read_csv('/content/gdrive/My Drive/Company Project/aqidaily2017.csv')"
      ],
      "execution_count": null,
      "outputs": []
    },
    {
      "cell_type": "code",
      "metadata": {
        "id": "WxIZqdUmds0l"
      },
      "source": [
        "aqi2018= pd.read_csv('/content/gdrive/My Drive/Company Project/aqidaily2018.csv')"
      ],
      "execution_count": null,
      "outputs": []
    },
    {
      "cell_type": "code",
      "metadata": {
        "id": "e1c6URhBdzEe"
      },
      "source": [
        "aqi2019= pd.read_csv('/content/gdrive/My Drive/Company Project/aqidaily2019.csv')"
      ],
      "execution_count": null,
      "outputs": []
    },
    {
      "cell_type": "code",
      "metadata": {
        "id": "ZUvepxjgdx83"
      },
      "source": [
        "aqi2020= pd.read_csv('/content/gdrive/My Drive/Company Project/aqidaily2020.csv')"
      ],
      "execution_count": null,
      "outputs": []
    },
    {
      "cell_type": "code",
      "metadata": {
        "id": "lnLpbKpVn4_S",
        "colab": {
          "base_uri": "https://localhost:8080/",
          "height": 323
        },
        "outputId": "df2b70dc-9356-43e1-81f6-14d45c1e63ae"
      },
      "source": [
        "aqi2018.head()"
      ],
      "execution_count": null,
      "outputs": [
        {
          "output_type": "execute_result",
          "data": {
            "text/html": [
              "<div>\n",
              "<style scoped>\n",
              "    .dataframe tbody tr th:only-of-type {\n",
              "        vertical-align: middle;\n",
              "    }\n",
              "\n",
              "    .dataframe tbody tr th {\n",
              "        vertical-align: top;\n",
              "    }\n",
              "\n",
              "    .dataframe thead th {\n",
              "        text-align: right;\n",
              "    }\n",
              "</style>\n",
              "<table border=\"1\" class=\"dataframe\">\n",
              "  <thead>\n",
              "    <tr style=\"text-align: right;\">\n",
              "      <th></th>\n",
              "      <th>Date</th>\n",
              "      <th>Overall AQI Value</th>\n",
              "      <th>Main Pollutant</th>\n",
              "      <th>Site Name (of Overall AQI)</th>\n",
              "      <th>Site ID (of Overall AQI)</th>\n",
              "      <th>Source (of Overall AQI)</th>\n",
              "      <th>CO</th>\n",
              "      <th>Ozone</th>\n",
              "      <th>SO2</th>\n",
              "      <th>PM10</th>\n",
              "      <th>PM25</th>\n",
              "      <th>NO2</th>\n",
              "    </tr>\n",
              "  </thead>\n",
              "  <tbody>\n",
              "    <tr>\n",
              "      <th>0</th>\n",
              "      <td>01/01/2018</td>\n",
              "      <td>30</td>\n",
              "      <td>PM2.5</td>\n",
              "      <td>Austin Webberville Rd</td>\n",
              "      <td>48-453-0021</td>\n",
              "      <td>AQS</td>\n",
              "      <td>2</td>\n",
              "      <td>27</td>\n",
              "      <td>.</td>\n",
              "      <td>.</td>\n",
              "      <td>30</td>\n",
              "      <td>9</td>\n",
              "    </tr>\n",
              "    <tr>\n",
              "      <th>1</th>\n",
              "      <td>01/02/2018</td>\n",
              "      <td>33</td>\n",
              "      <td>PM2.5</td>\n",
              "      <td>Austin Webberville Rd</td>\n",
              "      <td>48-453-0021</td>\n",
              "      <td>AQS</td>\n",
              "      <td>3</td>\n",
              "      <td>26</td>\n",
              "      <td>1</td>\n",
              "      <td>10</td>\n",
              "      <td>33</td>\n",
              "      <td>19</td>\n",
              "    </tr>\n",
              "    <tr>\n",
              "      <th>2</th>\n",
              "      <td>01/03/2018</td>\n",
              "      <td>47</td>\n",
              "      <td>PM2.5</td>\n",
              "      <td>Austin Webberville Rd</td>\n",
              "      <td>48-453-0021</td>\n",
              "      <td>AQS</td>\n",
              "      <td>11</td>\n",
              "      <td>31</td>\n",
              "      <td>0</td>\n",
              "      <td>.</td>\n",
              "      <td>47</td>\n",
              "      <td>37</td>\n",
              "    </tr>\n",
              "    <tr>\n",
              "      <th>3</th>\n",
              "      <td>01/04/2018</td>\n",
              "      <td>55</td>\n",
              "      <td>PM2.5</td>\n",
              "      <td>Austin Webberville Rd</td>\n",
              "      <td>48-453-0021</td>\n",
              "      <td>AQS</td>\n",
              "      <td>16</td>\n",
              "      <td>28</td>\n",
              "      <td>0</td>\n",
              "      <td>.</td>\n",
              "      <td>55</td>\n",
              "      <td>38</td>\n",
              "    </tr>\n",
              "    <tr>\n",
              "      <th>4</th>\n",
              "      <td>01/05/2018</td>\n",
              "      <td>51</td>\n",
              "      <td>PM2.5</td>\n",
              "      <td>Austin Webberville Rd</td>\n",
              "      <td>48-453-0021</td>\n",
              "      <td>AQS</td>\n",
              "      <td>8</td>\n",
              "      <td>35</td>\n",
              "      <td>1</td>\n",
              "      <td>.</td>\n",
              "      <td>51</td>\n",
              "      <td>48</td>\n",
              "    </tr>\n",
              "  </tbody>\n",
              "</table>\n",
              "</div>"
            ],
            "text/plain": [
              "         Date  Overall AQI Value Main Pollutant  ... PM10 PM25 NO2\n",
              "0  01/01/2018                 30          PM2.5  ...    .   30   9\n",
              "1  01/02/2018                 33          PM2.5  ...   10   33  19\n",
              "2  01/03/2018                 47          PM2.5  ...    .   47  37\n",
              "3  01/04/2018                 55          PM2.5  ...    .   55  38\n",
              "4  01/05/2018                 51          PM2.5  ...    .   51  48\n",
              "\n",
              "[5 rows x 12 columns]"
            ]
          },
          "metadata": {
            "tags": []
          },
          "execution_count": 83
        }
      ]
    },
    {
      "cell_type": "code",
      "metadata": {
        "id": "xohoZs7rof_c"
      },
      "source": [
        "aqitotal = pd.concat([aqi2017, aqi2018, aqi2019, aqi2020]) "
      ],
      "execution_count": null,
      "outputs": []
    },
    {
      "cell_type": "code",
      "metadata": {
        "id": "DsaNu21uqzPD"
      },
      "source": [
        "aqitotal.columns = aqitotal.columns.str.replace(' ','_')"
      ],
      "execution_count": null,
      "outputs": []
    },
    {
      "cell_type": "code",
      "metadata": {
        "id": "oAST23Ku8Y5U"
      },
      "source": [
        "aqitotal[\"Date\"] =  pd.to_datetime(aqitotal['Date'], format='%m/%d/%Y')"
      ],
      "execution_count": null,
      "outputs": []
    },
    {
      "cell_type": "code",
      "metadata": {
        "id": "4iX_Y0hq-BQi",
        "colab": {
          "base_uri": "https://localhost:8080/",
          "height": 225
        },
        "outputId": "959b56ad-3b64-49b8-8638-c9c098e2877d"
      },
      "source": [
        "aqitotal[\"Date\"]"
      ],
      "execution_count": null,
      "outputs": [
        {
          "output_type": "execute_result",
          "data": {
            "text/plain": [
              "0    2017-01-01\n",
              "1    2017-01-02\n",
              "2    2017-01-03\n",
              "3    2017-01-04\n",
              "4    2017-01-05\n",
              "        ...    \n",
              "86   2020-03-29\n",
              "87   2020-03-30\n",
              "88   2020-03-31\n",
              "89   2020-04-01\n",
              "90   2020-04-02\n",
              "Name: Date, Length: 1186, dtype: datetime64[ns]"
            ]
          },
          "metadata": {
            "tags": []
          },
          "execution_count": 87
        }
      ]
    },
    {
      "cell_type": "code",
      "metadata": {
        "id": "46jyenA4pyv7"
      },
      "source": [
        "dailytripcount_data = data3[data3['Year'] !=2020].groupby(by=['Date'], as_index=False).size().reset_index(name=\"Count\")#.sort_values(by=['Count'], ascending=False)"
      ],
      "execution_count": null,
      "outputs": []
    },
    {
      "cell_type": "code",
      "metadata": {
        "id": "L9XAtxOByi5w",
        "colab": {
          "base_uri": "https://localhost:8080/",
          "height": 35
        },
        "outputId": "9004ba42-d68c-4d94-de85-c8b15a407851"
      },
      "source": [
        "data3[data3['Year'] !=2020]['Year'].unique()"
      ],
      "execution_count": null,
      "outputs": [
        {
          "output_type": "execute_result",
          "data": {
            "text/plain": [
              "array([2018, 2019])"
            ]
          },
          "metadata": {
            "tags": []
          },
          "execution_count": 133
        }
      ]
    },
    {
      "cell_type": "code",
      "metadata": {
        "id": "O5dc1T64qsVT"
      },
      "source": [
        "pollution = pd.merge(dailytripcount_data, aqitotal, how='inner', on=['Date'])"
      ],
      "execution_count": null,
      "outputs": []
    },
    {
      "cell_type": "code",
      "metadata": {
        "id": "VzXTp9ks1-rb",
        "colab": {
          "base_uri": "https://localhost:8080/",
          "height": 309
        },
        "outputId": "b00b8ab5-f43b-42eb-a525-4beededa0591"
      },
      "source": [
        "pollution.tail()"
      ],
      "execution_count": null,
      "outputs": [
        {
          "output_type": "execute_result",
          "data": {
            "text/html": [
              "<div>\n",
              "<style scoped>\n",
              "    .dataframe tbody tr th:only-of-type {\n",
              "        vertical-align: middle;\n",
              "    }\n",
              "\n",
              "    .dataframe tbody tr th {\n",
              "        vertical-align: top;\n",
              "    }\n",
              "\n",
              "    .dataframe thead th {\n",
              "        text-align: right;\n",
              "    }\n",
              "</style>\n",
              "<table border=\"1\" class=\"dataframe\">\n",
              "  <thead>\n",
              "    <tr style=\"text-align: right;\">\n",
              "      <th></th>\n",
              "      <th>Date</th>\n",
              "      <th>Count</th>\n",
              "      <th>Overall_AQI_Value</th>\n",
              "      <th>Main_Pollutant</th>\n",
              "      <th>Site_Name_(of_Overall_AQI)</th>\n",
              "      <th>Site_ID_(of_Overall_AQI)</th>\n",
              "      <th>Source_(of_Overall_AQI)</th>\n",
              "      <th>CO</th>\n",
              "      <th>Ozone</th>\n",
              "      <th>SO2</th>\n",
              "      <th>PM10</th>\n",
              "      <th>PM25</th>\n",
              "      <th>NO2</th>\n",
              "    </tr>\n",
              "  </thead>\n",
              "  <tbody>\n",
              "    <tr>\n",
              "      <th>611</th>\n",
              "      <td>2019-12-27</td>\n",
              "      <td>6210</td>\n",
              "      <td>30</td>\n",
              "      <td>PM2.5</td>\n",
              "      <td>Austin Webberville Rd</td>\n",
              "      <td>48-453-0021</td>\n",
              "      <td>AQS</td>\n",
              "      <td>6</td>\n",
              "      <td>27</td>\n",
              "      <td>0</td>\n",
              "      <td>.</td>\n",
              "      <td>30</td>\n",
              "      <td>21</td>\n",
              "    </tr>\n",
              "    <tr>\n",
              "      <th>612</th>\n",
              "      <td>2019-12-28</td>\n",
              "      <td>6103</td>\n",
              "      <td>25</td>\n",
              "      <td>Ozone</td>\n",
              "      <td>Austin Northwest</td>\n",
              "      <td>48-453-0014</td>\n",
              "      <td>AQS</td>\n",
              "      <td>5</td>\n",
              "      <td>25</td>\n",
              "      <td>0</td>\n",
              "      <td>.</td>\n",
              "      <td>22</td>\n",
              "      <td>12</td>\n",
              "    </tr>\n",
              "    <tr>\n",
              "      <th>613</th>\n",
              "      <td>2019-12-29</td>\n",
              "      <td>7148</td>\n",
              "      <td>37</td>\n",
              "      <td>Ozone</td>\n",
              "      <td>Austin Northwest</td>\n",
              "      <td>48-453-0014</td>\n",
              "      <td>AQS</td>\n",
              "      <td>6</td>\n",
              "      <td>37</td>\n",
              "      <td>0</td>\n",
              "      <td>6</td>\n",
              "      <td>13</td>\n",
              "      <td>12</td>\n",
              "    </tr>\n",
              "    <tr>\n",
              "      <th>614</th>\n",
              "      <td>2019-12-30</td>\n",
              "      <td>6876</td>\n",
              "      <td>34</td>\n",
              "      <td>Ozone</td>\n",
              "      <td>Austin Northwest</td>\n",
              "      <td>48-453-0014</td>\n",
              "      <td>AQS</td>\n",
              "      <td>6</td>\n",
              "      <td>34</td>\n",
              "      <td>0</td>\n",
              "      <td>.</td>\n",
              "      <td>24</td>\n",
              "      <td>29</td>\n",
              "    </tr>\n",
              "    <tr>\n",
              "      <th>615</th>\n",
              "      <td>2019-12-31</td>\n",
              "      <td>9983</td>\n",
              "      <td>45</td>\n",
              "      <td>PM2.5</td>\n",
              "      <td>Austin Webberville Rd</td>\n",
              "      <td>48-453-0021</td>\n",
              "      <td>AQS</td>\n",
              "      <td>7</td>\n",
              "      <td>34</td>\n",
              "      <td>0</td>\n",
              "      <td>.</td>\n",
              "      <td>45</td>\n",
              "      <td>28</td>\n",
              "    </tr>\n",
              "  </tbody>\n",
              "</table>\n",
              "</div>"
            ],
            "text/plain": [
              "          Date  Count  Overall_AQI_Value Main_Pollutant  ... SO2 PM10 PM25 NO2\n",
              "611 2019-12-27   6210                 30          PM2.5  ...   0    .   30  21\n",
              "612 2019-12-28   6103                 25          Ozone  ...   0    .   22  12\n",
              "613 2019-12-29   7148                 37          Ozone  ...   0    6   13  12\n",
              "614 2019-12-30   6876                 34          Ozone  ...   0    .   24  29\n",
              "615 2019-12-31   9983                 45          PM2.5  ...   0    .   45  28\n",
              "\n",
              "[5 rows x 13 columns]"
            ]
          },
          "metadata": {
            "tags": []
          },
          "execution_count": 134
        }
      ]
    },
    {
      "cell_type": "code",
      "metadata": {
        "id": "VZP6hXzey5zy"
      },
      "source": [
        "Pollution['']"
      ],
      "execution_count": null,
      "outputs": []
    },
    {
      "cell_type": "code",
      "metadata": {
        "id": "CTsbSCaZ9Etu",
        "colab": {
          "base_uri": "https://localhost:8080/",
          "height": 35
        },
        "outputId": "dd7a52dc-d13b-4afa-ac93-4c15bc6bc3a6"
      },
      "source": [
        "pollution['Count'].corr(pollution['Overall_AQI_Value'])"
      ],
      "execution_count": null,
      "outputs": [
        {
          "output_type": "execute_result",
          "data": {
            "text/plain": [
              "-0.02184103303929394"
            ]
          },
          "metadata": {
            "tags": []
          },
          "execution_count": 131
        }
      ]
    }
  ]
}